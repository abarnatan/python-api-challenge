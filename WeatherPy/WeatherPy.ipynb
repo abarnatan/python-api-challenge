{
 "cells": [
  {
   "cell_type": "markdown",
   "metadata": {},
   "source": [
    "# WeatherPy\n",
    "----\n",
    "\n",
    "#### Note\n",
    "* Instructions have been included for each segment. You do not have to follow them exactly, but they are included to help you think through the steps."
   ]
  },
  {
   "cell_type": "code",
   "execution_count": 1,
   "metadata": {
    "scrolled": true
   },
   "outputs": [],
   "source": [
    "# Dependencies and Setup\n",
    "import matplotlib.pyplot as plt\n",
    "import pandas as pd\n",
    "import numpy as np\n",
    "import requests\n",
    "import time\n",
    "from scipy.stats import linregress\n",
    "\n",
    "# Import API key\n",
    "from api_keys import weather_api_key\n",
    "\n",
    "# Incorporated citipy to determine city based on latitude and longitude\n",
    "from citipy import citipy\n",
    "\n",
    "# Output File (CSV)\n",
    "output_data_file = \"output_data/cities.csv\"\n",
    "\n",
    "# Range of latitudes and longitudes\n",
    "lat_range = (-90, 90)\n",
    "lng_range = (-180, 180)"
   ]
  },
  {
   "cell_type": "markdown",
   "metadata": {},
   "source": [
    "## Generate Cities List"
   ]
  },
  {
   "cell_type": "code",
   "execution_count": 2,
   "metadata": {},
   "outputs": [
    {
     "data": {
      "text/plain": [
       "641"
      ]
     },
     "execution_count": 2,
     "metadata": {},
     "output_type": "execute_result"
    }
   ],
   "source": [
    "# List for holding lat_lngs and cities\n",
    "lat_lngs = []\n",
    "cities = []\n",
    "\n",
    "# Create a set of random lat and lng combinations\n",
    "lats = np.random.uniform(lat_range[0], lat_range[1], size=1500)\n",
    "lngs = np.random.uniform(lng_range[0], lng_range[1], size=1500)\n",
    "lat_lngs = zip(lats, lngs)\n",
    "\n",
    "# Identify nearest city for each lat, lng combination\n",
    "for lat_lng in lat_lngs:\n",
    "    city = citipy.nearest_city(lat_lng[0], lat_lng[1]).city_name\n",
    "    \n",
    "    # If the city is unique, then add it to a our cities list\n",
    "    if city not in cities:\n",
    "        cities.append(city)\n",
    "\n",
    "# Print the city count to confirm sufficient count\n",
    "len(cities)"
   ]
  },
  {
   "cell_type": "markdown",
   "metadata": {},
   "source": [
    "### Perform API Calls\n",
    "* Perform a weather check on each city using a series of successive API calls.\n",
    "* Include a print log of each city as it'sbeing processed (with the city number and city name).\n"
   ]
  },
  {
   "cell_type": "code",
   "execution_count": 3,
   "metadata": {
    "scrolled": true
   },
   "outputs": [
    {
     "name": "stdout",
     "output_type": "stream",
     "text": [
      "http://api.openweathermap.org/data/2.5/weather?appid=28dd5bd9fdcd0365d2a88aabf63d3125&units=imperial&q=\n"
     ]
    }
   ],
   "source": [
    "# OpenWeather Key\n",
    "api_key = weather_api_key\n",
    "units = \"imperial\"\n",
    "\n",
    "query_url = f\"http://api.openweathermap.org/data/2.5/weather?appid={api_key}&units={units}&q=\"\n",
    "\n",
    "# define count of pass throughs \n",
    "count_one = 0\n",
    "set_one = 1\n",
    "\n",
    "print(query_url)"
   ]
  },
  {
   "cell_type": "code",
   "execution_count": 4,
   "metadata": {},
   "outputs": [
    {
     "name": "stdout",
     "output_type": "stream",
     "text": [
      "Processing Record 1 of Set 1 | san ramon\n",
      "Processing Record 2 of Set 1 | dikson\n",
      "Processing Record 3 of Set 1 | kahului\n",
      "Processing Record 4 of Set 1 | beringovskiy\n",
      "Processing Record 5 of Set 1 | progreso\n",
      "Processing Record 6 of Set 1 | port alfred\n",
      "Processing Record 7 of Set 1 | satinka\n",
      "Processing Record 8 of Set 1 | hobart\n",
      "Processing Record 9 of Set 1 | boyolangu\n",
      "Processing Record 10 of Set 1 | mar del plata\n",
      "Processing Record 11 of Set 1 | lokosovo\n",
      "Processing Record 12 of Set 1 | tayu\n",
      "Processing Record 13 of Set 1 | pangnirtung\n",
      "Processing Record 14 of Set 1 | sitka\n",
      "City not found. Skipping...\n",
      "Processing Record 15 of Set 1 | atuona\n",
      "Processing Record 16 of Set 1 | avarua\n",
      "Processing Record 17 of Set 1 | barrow\n",
      "City not found. Skipping...\n",
      "Processing Record 18 of Set 1 | chokurdakh\n",
      "Processing Record 19 of Set 1 | necochea\n",
      "Processing Record 20 of Set 1 | busselton\n",
      "Processing Record 21 of Set 1 | byron bay\n",
      "Processing Record 22 of Set 1 | sudak\n",
      "Processing Record 23 of Set 1 | paamiut\n",
      "City not found. Skipping...\n",
      "Processing Record 24 of Set 1 | constitucion\n",
      "Processing Record 25 of Set 1 | mahebourg\n",
      "Processing Record 26 of Set 1 | mayumba\n",
      "Processing Record 27 of Set 1 | hilo\n",
      "Processing Record 28 of Set 1 | kaitangata\n",
      "Processing Record 29 of Set 1 | george town\n",
      "Processing Record 30 of Set 1 | flinders\n",
      "Processing Record 31 of Set 1 | punta arenas\n",
      "City not found. Skipping...\n",
      "Processing Record 32 of Set 1 | springbok\n",
      "Processing Record 33 of Set 1 | bredasdorp\n",
      "Processing Record 34 of Set 1 | new norfolk\n",
      "Processing Record 35 of Set 1 | hermanus\n",
      "Processing Record 36 of Set 1 | kapaa\n",
      "Processing Record 37 of Set 1 | koslan\n",
      "City not found. Skipping...\n",
      "Processing Record 38 of Set 1 | bluff\n",
      "Processing Record 39 of Set 1 | coihaique\n",
      "City not found. Skipping...\n",
      "City not found. Skipping...\n",
      "Processing Record 40 of Set 1 | carnarvon\n",
      "Processing Record 41 of Set 1 | naze\n",
      "Processing Record 42 of Set 1 | tuatapere\n",
      "Processing Record 43 of Set 1 | chuy\n",
      "Processing Record 44 of Set 1 | port hardy\n",
      "Processing Record 45 of Set 1 | albany\n",
      "Processing Record 46 of Set 1 | longyearbyen\n",
      "Processing Record 47 of Set 1 | buraydah\n",
      "City not found. Skipping...\n",
      "Processing Record 48 of Set 1 | talakan\n",
      "Processing Record 49 of Set 1 | awbari\n",
      "Processing Record 1 of Set 2 | nemuro\n",
      "Processing Record 2 of Set 2 | severo-kurilsk\n",
      "Processing Record 3 of Set 2 | lorengau\n",
      "Processing Record 4 of Set 2 | shiraz\n",
      "Processing Record 5 of Set 2 | hithadhoo\n",
      "Processing Record 6 of Set 2 | hohhot\n",
      "Processing Record 7 of Set 2 | codrington\n",
      "Processing Record 8 of Set 2 | maceio\n",
      "Processing Record 9 of Set 2 | xining\n",
      "Processing Record 10 of Set 2 | rikitea\n",
      "Processing Record 11 of Set 2 | mataura\n",
      "Processing Record 12 of Set 2 | coahuayana\n",
      "Processing Record 13 of Set 2 | puerto ayora\n",
      "Processing Record 14 of Set 2 | yaan\n",
      "Processing Record 15 of Set 2 | norman wells\n",
      "Processing Record 16 of Set 2 | paita\n",
      "Processing Record 17 of Set 2 | shingu\n",
      "Processing Record 18 of Set 2 | saskylakh\n",
      "Processing Record 19 of Set 2 | fairbanks\n",
      "Processing Record 20 of Set 2 | belyy yar\n",
      "Processing Record 21 of Set 2 | saint-philippe\n",
      "Processing Record 22 of Set 2 | prince rupert\n",
      "Processing Record 23 of Set 2 | vilcun\n",
      "Processing Record 24 of Set 2 | ushuaia\n",
      "Processing Record 25 of Set 2 | butaritari\n",
      "Processing Record 26 of Set 2 | klaksvik\n",
      "Processing Record 27 of Set 2 | tocache\n",
      "Processing Record 28 of Set 2 | cape town\n",
      "Processing Record 29 of Set 2 | owando\n",
      "Processing Record 30 of Set 2 | jamestown\n",
      "Processing Record 31 of Set 2 | lebu\n",
      "Processing Record 32 of Set 2 | yellowknife\n",
      "Processing Record 33 of Set 2 | victoria\n",
      "Processing Record 34 of Set 2 | touros\n",
      "Processing Record 35 of Set 2 | teruel\n",
      "Processing Record 36 of Set 2 | brae\n",
      "Processing Record 37 of Set 2 | ilulissat\n",
      "City not found. Skipping...\n",
      "Processing Record 38 of Set 2 | alofi\n",
      "Processing Record 39 of Set 2 | trelew\n",
      "Processing Record 40 of Set 2 | bethel\n",
      "Processing Record 41 of Set 2 | gambela\n",
      "Processing Record 42 of Set 2 | mount gambier\n",
      "Processing Record 43 of Set 2 | yola\n",
      "Processing Record 44 of Set 2 | dunda\n",
      "City not found. Skipping...\n",
      "Processing Record 45 of Set 2 | bereda\n",
      "Processing Record 46 of Set 2 | beloha\n",
      "Processing Record 47 of Set 2 | baruun-urt\n",
      "Processing Record 48 of Set 2 | salimpur\n",
      "Processing Record 49 of Set 2 | ati\n",
      "Processing Record 1 of Set 3 | srednekolymsk\n",
      "Processing Record 2 of Set 3 | tuktoyaktuk\n",
      "Processing Record 3 of Set 3 | nikolskoye\n",
      "City not found. Skipping...\n",
      "Processing Record 4 of Set 3 | shache\n",
      "Processing Record 5 of Set 3 | kharp\n",
      "Processing Record 6 of Set 3 | airai\n",
      "Processing Record 7 of Set 3 | east london\n",
      "Processing Record 8 of Set 3 | tari\n",
      "Processing Record 9 of Set 3 | deming\n",
      "Processing Record 10 of Set 3 | vaini\n",
      "Processing Record 11 of Set 3 | cherskiy\n",
      "Processing Record 12 of Set 3 | georgetown\n",
      "Processing Record 13 of Set 3 | kolpny\n",
      "Processing Record 14 of Set 3 | leh\n",
      "City not found. Skipping...\n",
      "Processing Record 15 of Set 3 | sabha\n",
      "Processing Record 16 of Set 3 | poum\n",
      "Processing Record 17 of Set 3 | bilibino\n",
      "Processing Record 18 of Set 3 | oromocto\n",
      "Processing Record 19 of Set 3 | robore\n",
      "Processing Record 20 of Set 3 | janesville\n",
      "Processing Record 21 of Set 3 | mungwi\n",
      "Processing Record 22 of Set 3 | wickford\n",
      "Processing Record 23 of Set 3 | sakakah\n",
      "Processing Record 24 of Set 3 | kirakira\n",
      "Processing Record 25 of Set 3 | sorland\n",
      "Processing Record 26 of Set 3 | mnogovershinnyy\n",
      "Processing Record 27 of Set 3 | hobyo\n",
      "Processing Record 28 of Set 3 | augustow\n",
      "City not found. Skipping...\n",
      "Processing Record 29 of Set 3 | venado tuerto\n",
      "Processing Record 30 of Set 3 | berlevag\n",
      "Processing Record 31 of Set 3 | alekseyevsk\n",
      "Processing Record 32 of Set 3 | najran\n",
      "Processing Record 33 of Set 3 | torbay\n",
      "Processing Record 34 of Set 3 | hamadan\n",
      "Processing Record 35 of Set 3 | lagoa\n",
      "Processing Record 36 of Set 3 | arraial do cabo\n",
      "Processing Record 37 of Set 3 | leningradskiy\n",
      "Processing Record 38 of Set 3 | tilichiki\n",
      "Processing Record 39 of Set 3 | bud\n",
      "Processing Record 40 of Set 3 | alta floresta\n",
      "Processing Record 41 of Set 3 | qaanaaq\n",
      "Processing Record 42 of Set 3 | bonfim\n",
      "Processing Record 43 of Set 3 | bara\n",
      "Processing Record 44 of Set 3 | castro\n",
      "Processing Record 45 of Set 3 | menongue\n",
      "Processing Record 46 of Set 3 | namatanai\n",
      "City not found. Skipping...\n",
      "Processing Record 47 of Set 3 | syasstroy\n",
      "Processing Record 48 of Set 3 | kurdzhinovo\n",
      "Processing Record 49 of Set 3 | dunedin\n",
      "Processing Record 1 of Set 4 | nouadhibou\n",
      "Processing Record 2 of Set 4 | pisco\n",
      "Processing Record 3 of Set 4 | sao filipe\n",
      "Processing Record 4 of Set 4 | san cristobal\n",
      "Processing Record 5 of Set 4 | senanga\n",
      "Processing Record 6 of Set 4 | saldanha\n",
      "Processing Record 7 of Set 4 | springdale\n",
      "Processing Record 8 of Set 4 | atar\n",
      "City not found. Skipping...\n",
      "Processing Record 9 of Set 4 | qaqortoq\n",
      "Processing Record 10 of Set 4 | valparaiso\n",
      "Processing Record 11 of Set 4 | san juan de la maguana\n",
      "Processing Record 12 of Set 4 | kitimat\n",
      "Processing Record 13 of Set 4 | labuhan\n",
      "Processing Record 14 of Set 4 | nelson bay\n",
      "Processing Record 15 of Set 4 | dawlatabad\n",
      "Processing Record 16 of Set 4 | koungou\n",
      "Processing Record 17 of Set 4 | oranjestad\n",
      "Processing Record 18 of Set 4 | salalah\n",
      "Processing Record 19 of Set 4 | tautira\n",
      "Processing Record 20 of Set 4 | torphins\n",
      "Processing Record 21 of Set 4 | rayagada\n",
      "Processing Record 22 of Set 4 | cockburn harbour\n",
      "Processing Record 23 of Set 4 | guaraciaba do norte\n",
      "Processing Record 24 of Set 4 | ancud\n",
      "Processing Record 25 of Set 4 | talnakh\n",
      "Processing Record 26 of Set 4 | maiduguri\n",
      "Processing Record 27 of Set 4 | bar harbor\n",
      "Processing Record 28 of Set 4 | myitkyina\n",
      "Processing Record 29 of Set 4 | jutai\n",
      "Processing Record 30 of Set 4 | villa carlos paz\n",
      "City not found. Skipping...\n",
      "Processing Record 31 of Set 4 | kindu\n",
      "Processing Record 32 of Set 4 | harnosand\n",
      "Processing Record 33 of Set 4 | acapulco\n",
      "Processing Record 34 of Set 4 | udachnyy\n",
      "Processing Record 35 of Set 4 | kirkland lake\n",
      "Processing Record 36 of Set 4 | zhoucheng\n",
      "City not found. Skipping...\n",
      "Processing Record 37 of Set 4 | bubaque\n",
      "Processing Record 38 of Set 4 | faanui\n",
      "Processing Record 39 of Set 4 | nicoya\n",
      "Processing Record 40 of Set 4 | letlhakane\n",
      "Processing Record 41 of Set 4 | noumea\n",
      "Processing Record 42 of Set 4 | boden\n"
     ]
    },
    {
     "name": "stdout",
     "output_type": "stream",
     "text": [
      "Processing Record 43 of Set 4 | kodinsk\n",
      "Processing Record 44 of Set 4 | samarinda\n",
      "Processing Record 45 of Set 4 | asau\n",
      "Processing Record 46 of Set 4 | harbour breton\n",
      "Processing Record 47 of Set 4 | ribeira grande\n",
      "Processing Record 48 of Set 4 | phan rang\n",
      "Processing Record 49 of Set 4 | marawi\n",
      "Processing Record 1 of Set 5 | huarmey\n",
      "Processing Record 2 of Set 5 | kaeo\n",
      "City not found. Skipping...\n",
      "Processing Record 3 of Set 5 | esperance\n",
      "Processing Record 4 of Set 5 | egvekinot\n",
      "Processing Record 5 of Set 5 | luau\n",
      "Processing Record 6 of Set 5 | markova\n",
      "Processing Record 7 of Set 5 | apple valley\n",
      "City not found. Skipping...\n",
      "City not found. Skipping...\n",
      "Processing Record 8 of Set 5 | nanae\n",
      "Processing Record 9 of Set 5 | iqaluit\n",
      "Processing Record 10 of Set 5 | khatanga\n",
      "Processing Record 11 of Set 5 | sierra vista\n",
      "Processing Record 12 of Set 5 | sabang\n",
      "Processing Record 13 of Set 5 | igarka\n",
      "Processing Record 14 of Set 5 | praia da vitoria\n",
      "Processing Record 15 of Set 5 | mys shmidta\n",
      "Processing Record 16 of Set 5 | algodones\n",
      "Processing Record 17 of Set 5 | chara\n",
      "City not found. Skipping...\n",
      "Processing Record 18 of Set 5 | meulaboh\n",
      "Processing Record 19 of Set 5 | port elizabeth\n",
      "Processing Record 20 of Set 5 | okha\n",
      "Processing Record 21 of Set 5 | provideniya\n",
      "Processing Record 22 of Set 5 | thompson\n",
      "Processing Record 23 of Set 5 | plattsburgh\n",
      "Processing Record 24 of Set 5 | sola\n",
      "Processing Record 25 of Set 5 | honiara\n",
      "Processing Record 26 of Set 5 | mantua\n",
      "Processing Record 27 of Set 5 | vavuniya\n",
      "Processing Record 28 of Set 5 | daru\n",
      "Processing Record 29 of Set 5 | college\n",
      "Processing Record 30 of Set 5 | bengkulu\n",
      "Processing Record 31 of Set 5 | grand centre\n",
      "Processing Record 32 of Set 5 | huilong\n",
      "Processing Record 33 of Set 5 | taltal\n",
      "Processing Record 34 of Set 5 | ust-kulom\n",
      "Processing Record 35 of Set 5 | abu jubayhah\n",
      "City not found. Skipping...\n",
      "Processing Record 36 of Set 5 | novyy urengoy\n",
      "Processing Record 37 of Set 5 | lata\n",
      "Processing Record 38 of Set 5 | acapetahua\n",
      "Processing Record 39 of Set 5 | panguna\n",
      "Processing Record 40 of Set 5 | ostrovnoy\n",
      "Processing Record 41 of Set 5 | taoudenni\n",
      "Processing Record 42 of Set 5 | araouane\n",
      "Processing Record 43 of Set 5 | erzin\n",
      "Processing Record 44 of Set 5 | grand river south east\n",
      "Processing Record 45 of Set 5 | juybar\n",
      "Processing Record 46 of Set 5 | vredendal\n",
      "Processing Record 47 of Set 5 | kamina\n",
      "Processing Record 48 of Set 5 | ukiah\n",
      "Processing Record 49 of Set 5 | finschhafen\n",
      "Processing Record 1 of Set 6 | salamanca\n",
      "Processing Record 2 of Set 6 | lethbridge\n",
      "City not found. Skipping...\n",
      "Processing Record 3 of Set 6 | tokur\n",
      "Processing Record 4 of Set 6 | tessalit\n",
      "Processing Record 5 of Set 6 | ereymentau\n",
      "Processing Record 6 of Set 6 | maxixe\n",
      "Processing Record 7 of Set 6 | denpasar\n",
      "Processing Record 8 of Set 6 | caravelas\n",
      "Processing Record 9 of Set 6 | richmond\n",
      "Processing Record 10 of Set 6 | kavieng\n",
      "Processing Record 11 of Set 6 | changli\n",
      "City not found. Skipping...\n",
      "City not found. Skipping...\n",
      "Processing Record 12 of Set 6 | pevek\n",
      "City not found. Skipping...\n",
      "Processing Record 13 of Set 6 | sao felix do xingu\n",
      "Processing Record 14 of Set 6 | upernavik\n",
      "Processing Record 15 of Set 6 | oranjemund\n",
      "Processing Record 16 of Set 6 | dong xoai\n",
      "Processing Record 17 of Set 6 | allapalli\n",
      "Processing Record 18 of Set 6 | belebey\n",
      "Processing Record 19 of Set 6 | acajutla\n",
      "Processing Record 20 of Set 6 | soe\n",
      "Processing Record 21 of Set 6 | san ignacio\n",
      "Processing Record 22 of Set 6 | kamenka\n",
      "Processing Record 23 of Set 6 | tiksi\n",
      "Processing Record 24 of Set 6 | sampit\n",
      "Processing Record 25 of Set 6 | buchanan\n",
      "Processing Record 26 of Set 6 | poya\n",
      "Processing Record 27 of Set 6 | aklavik\n",
      "Processing Record 28 of Set 6 | whyalla\n",
      "City not found. Skipping...\n",
      "Processing Record 29 of Set 6 | kargasok\n",
      "Processing Record 30 of Set 6 | ahipara\n",
      "Processing Record 31 of Set 6 | kupang\n",
      "Processing Record 32 of Set 6 | antofagasta\n",
      "Processing Record 33 of Set 6 | bambanglipuro\n",
      "Processing Record 34 of Set 6 | vila velha\n",
      "Processing Record 35 of Set 6 | svetlaya\n",
      "Processing Record 36 of Set 6 | lazaro cardenas\n",
      "Processing Record 37 of Set 6 | batticaloa\n",
      "Processing Record 38 of Set 6 | dolzhanskaya\n",
      "City not found. Skipping...\n",
      "Processing Record 39 of Set 6 | puerto escondido\n",
      "Processing Record 40 of Set 6 | kloulklubed\n",
      "Processing Record 41 of Set 6 | kodiak\n",
      "Processing Record 42 of Set 6 | kalikino\n",
      "Processing Record 43 of Set 6 | buala\n",
      "Processing Record 44 of Set 6 | mildura\n",
      "Processing Record 45 of Set 6 | dongsheng\n",
      "Processing Record 46 of Set 6 | sterling\n",
      "Processing Record 47 of Set 6 | tanete\n",
      "City not found. Skipping...\n",
      "Processing Record 48 of Set 6 | ponta do sol\n",
      "Processing Record 49 of Set 6 | nome\n",
      "Processing Record 1 of Set 7 | zyryanka\n",
      "Processing Record 2 of Set 7 | sangar\n",
      "Processing Record 3 of Set 7 | mahanje\n",
      "City not found. Skipping...\n",
      "Processing Record 4 of Set 7 | rundu\n",
      "Processing Record 5 of Set 7 | puerto madryn\n",
      "Processing Record 6 of Set 7 | vardo\n",
      "Processing Record 7 of Set 7 | eidsvag\n",
      "City not found. Skipping...\n",
      "Processing Record 8 of Set 7 | alenquer\n",
      "City not found. Skipping...\n",
      "Processing Record 9 of Set 7 | chuguyevka\n",
      "Processing Record 10 of Set 7 | santander jimenez\n",
      "Processing Record 11 of Set 7 | ndola\n",
      "Processing Record 12 of Set 7 | visby\n",
      "Processing Record 13 of Set 7 | charters towers\n",
      "Processing Record 14 of Set 7 | malakal\n",
      "Processing Record 15 of Set 7 | jinchang\n",
      "Processing Record 16 of Set 7 | amapa\n",
      "Processing Record 17 of Set 7 | kayasula\n",
      "Processing Record 18 of Set 7 | karratha\n",
      "Processing Record 19 of Set 7 | kenai\n",
      "Processing Record 20 of Set 7 | port blair\n",
      "Processing Record 21 of Set 7 | katobu\n",
      "Processing Record 22 of Set 7 | tasiilaq\n",
      "Processing Record 23 of Set 7 | hovd\n",
      "Processing Record 24 of Set 7 | krasnoselkup\n",
      "City not found. Skipping...\n",
      "Processing Record 25 of Set 7 | barrhead\n",
      "Processing Record 26 of Set 7 | kalangala\n",
      "City not found. Skipping...\n",
      "Processing Record 27 of Set 7 | cidreira\n",
      "Processing Record 28 of Set 7 | souillac\n",
      "City not found. Skipping...\n",
      "Processing Record 29 of Set 7 | galegos\n",
      "Processing Record 30 of Set 7 | boa vista\n",
      "Processing Record 31 of Set 7 | mount isa\n",
      "Processing Record 32 of Set 7 | svetlogorsk\n",
      "Processing Record 33 of Set 7 | omsukchan\n",
      "Processing Record 34 of Set 7 | juegang\n",
      "Processing Record 35 of Set 7 | kimbe\n",
      "Processing Record 36 of Set 7 | narsaq\n",
      "Processing Record 37 of Set 7 | puerto penasco\n",
      "City not found. Skipping...\n",
      "Processing Record 38 of Set 7 | kibondo\n",
      "Processing Record 39 of Set 7 | mumford\n",
      "Processing Record 40 of Set 7 | kananga\n",
      "Processing Record 41 of Set 7 | maua\n",
      "City not found. Skipping...\n",
      "Processing Record 42 of Set 7 | maumere\n",
      "Processing Record 43 of Set 7 | santa cruz del norte\n",
      "Processing Record 44 of Set 7 | terrak\n",
      "Processing Record 45 of Set 7 | port lincoln\n",
      "Processing Record 46 of Set 7 | orlik\n",
      "Processing Record 47 of Set 7 | acari\n",
      "Processing Record 48 of Set 7 | nanortalik\n",
      "Processing Record 49 of Set 7 | wanning\n",
      "City not found. Skipping...\n",
      "Processing Record 1 of Set 8 | shwebo\n",
      "Processing Record 2 of Set 8 | bulgan\n",
      "Processing Record 3 of Set 8 | kawalu\n",
      "Processing Record 4 of Set 8 | okato\n",
      "Processing Record 5 of Set 8 | peleduy\n",
      "Processing Record 6 of Set 8 | kuhdasht\n",
      "Processing Record 7 of Set 8 | quchan\n",
      "Processing Record 8 of Set 8 | eyl\n",
      "Processing Record 9 of Set 8 | basco\n",
      "Processing Record 10 of Set 8 | carlsbad\n",
      "Processing Record 11 of Set 8 | islahiye\n",
      "Processing Record 12 of Set 8 | carauari\n",
      "Processing Record 13 of Set 8 | sur\n",
      "Processing Record 14 of Set 8 | noyabrsk\n",
      "Processing Record 15 of Set 8 | mogwase\n",
      "Processing Record 16 of Set 8 | madhupur\n",
      "Processing Record 17 of Set 8 | karaton\n",
      "City not found. Skipping...\n",
      "Processing Record 18 of Set 8 | sinop\n",
      "Processing Record 19 of Set 8 | traunreut\n",
      "Processing Record 20 of Set 8 | kousseri\n",
      "Processing Record 21 of Set 8 | alzamay\n",
      "Processing Record 22 of Set 8 | otradnoye\n",
      "Processing Record 23 of Set 8 | dauphin\n",
      "Processing Record 24 of Set 8 | dickinson\n",
      "Processing Record 25 of Set 8 | lagunas\n",
      "Processing Record 26 of Set 8 | bodden town\n",
      "Processing Record 27 of Set 8 | kailua\n",
      "Processing Record 28 of Set 8 | cockburn town\n",
      "Processing Record 29 of Set 8 | turbat\n",
      "Processing Record 30 of Set 8 | rosarito\n",
      "Processing Record 31 of Set 8 | namibe\n",
      "Processing Record 32 of Set 8 | porto novo\n"
     ]
    },
    {
     "name": "stdout",
     "output_type": "stream",
     "text": [
      "Processing Record 33 of Set 8 | carballo\n",
      "Processing Record 34 of Set 8 | homer\n",
      "Processing Record 35 of Set 8 | aracati\n",
      "Processing Record 36 of Set 8 | lhokseumawe\n",
      "Processing Record 37 of Set 8 | buin\n",
      "Processing Record 38 of Set 8 | saint-pierre\n",
      "Processing Record 39 of Set 8 | san felipe\n",
      "Processing Record 40 of Set 8 | iisalmi\n",
      "Processing Record 41 of Set 8 | ekimchan\n",
      "Processing Record 42 of Set 8 | sinnamary\n",
      "Processing Record 43 of Set 8 | macapa\n",
      "Processing Record 44 of Set 8 | laguna\n",
      "Processing Record 45 of Set 8 | beya\n",
      "Processing Record 46 of Set 8 | porangatu\n",
      "Processing Record 47 of Set 8 | zhangjiakou\n",
      "Processing Record 48 of Set 8 | isangel\n",
      "Processing Record 49 of Set 8 | qui nhon\n",
      "Processing Record 1 of Set 9 | komsomolskiy\n",
      "Processing Record 2 of Set 9 | sarakhs\n",
      "Processing Record 3 of Set 9 | bambous virieux\n",
      "Processing Record 4 of Set 9 | jiuquan\n",
      "City not found. Skipping...\n",
      "Processing Record 5 of Set 9 | ludvika\n",
      "Processing Record 6 of Set 9 | nabire\n",
      "Processing Record 7 of Set 9 | oyama\n",
      "Processing Record 8 of Set 9 | muana\n",
      "Processing Record 9 of Set 9 | moraresti\n",
      "Processing Record 10 of Set 9 | monteagudo\n",
      "Processing Record 11 of Set 9 | likhovskoy\n",
      "City not found. Skipping...\n",
      "Processing Record 12 of Set 9 | sechura\n",
      "Processing Record 13 of Set 9 | pangody\n",
      "Processing Record 14 of Set 9 | praya\n",
      "Processing Record 15 of Set 9 | port moresby\n",
      "Processing Record 16 of Set 9 | seymchan\n",
      "Processing Record 17 of Set 9 | elbistan\n",
      "Processing Record 18 of Set 9 | podolinec\n",
      "Processing Record 19 of Set 9 | coronel mariduena\n",
      "Processing Record 20 of Set 9 | ypsonas\n",
      "Processing Record 21 of Set 9 | matagami\n",
      "Processing Record 22 of Set 9 | hasaki\n",
      "Processing Record 23 of Set 9 | raudeberg\n",
      "Processing Record 24 of Set 9 | opuwo\n",
      "City not found. Skipping...\n",
      "Processing Record 25 of Set 9 | rafraf\n",
      "Processing Record 26 of Set 9 | hamilton\n",
      "Processing Record 27 of Set 9 | yulara\n",
      "Processing Record 28 of Set 9 | lahij\n",
      "Processing Record 29 of Set 9 | januaria\n",
      "Processing Record 30 of Set 9 | krutinka\n",
      "Processing Record 31 of Set 9 | tigil\n",
      "Processing Record 32 of Set 9 | vyborg\n",
      "Processing Record 33 of Set 9 | maputo\n",
      "Processing Record 34 of Set 9 | tingo maria\n",
      "Processing Record 35 of Set 9 | balkanabat\n",
      "City not found. Skipping...\n",
      "Processing Record 36 of Set 9 | moose factory\n",
      "Processing Record 37 of Set 9 | shieli\n",
      "Processing Record 38 of Set 9 | hauterive\n",
      "Processing Record 39 of Set 9 | kyaikkami\n",
      "Processing Record 40 of Set 9 | comodoro rivadavia\n",
      "Processing Record 41 of Set 9 | sapa\n",
      "Processing Record 42 of Set 9 | aranos\n",
      "Processing Record 43 of Set 9 | mackay\n",
      "Processing Record 44 of Set 9 | vryburg\n",
      "Processing Record 45 of Set 9 | haimen\n",
      "Processing Record 46 of Set 9 | cuamba\n",
      "Processing Record 47 of Set 9 | clyde river\n",
      "Processing Record 48 of Set 9 | makakilo city\n",
      "Processing Record 49 of Set 9 | yokadouma\n",
      "Processing Record 1 of Set 10 | vilyuysk\n",
      "Processing Record 2 of Set 10 | iwanai\n",
      "Processing Record 3 of Set 10 | san roque\n",
      "Processing Record 4 of Set 10 | uaua\n",
      "Processing Record 5 of Set 10 | port keats\n",
      "Processing Record 6 of Set 10 | nanakuli\n",
      "Processing Record 7 of Set 10 | muros\n",
      "Processing Record 8 of Set 10 | itaqui\n",
      "Processing Record 9 of Set 10 | kasongo-lunda\n",
      "Processing Record 10 of Set 10 | havoysund\n",
      "Processing Record 11 of Set 10 | cukai\n",
      "Processing Record 12 of Set 10 | stornoway\n",
      "Processing Record 13 of Set 10 | tarata\n",
      "Processing Record 14 of Set 10 | gornyy\n",
      "Processing Record 15 of Set 10 | olafsvik\n",
      "Processing Record 16 of Set 10 | onega\n",
      "Processing Record 17 of Set 10 | enshi\n",
      "Processing Record 18 of Set 10 | caranavi\n",
      "Processing Record 19 of Set 10 | ardakan\n",
      "Processing Record 20 of Set 10 | san patricio\n",
      "Processing Record 21 of Set 10 | kabalo\n",
      "Processing Record 22 of Set 10 | turukhansk\n",
      "Processing Record 23 of Set 10 | dubbo\n",
      "Processing Record 24 of Set 10 | beaverlodge\n",
      "Processing Record 25 of Set 10 | shangrao\n",
      "City not found. Skipping...\n",
      "City not found. Skipping...\n",
      "Processing Record 26 of Set 10 | abadan\n",
      "Processing Record 27 of Set 10 | avera\n",
      "Processing Record 28 of Set 10 | villa del rosario\n",
      "Processing Record 29 of Set 10 | itoman\n",
      "Processing Record 30 of Set 10 | geraldton\n",
      "Processing Record 31 of Set 10 | kutum\n",
      "Processing Record 32 of Set 10 | honningsvag\n",
      "Processing Record 33 of Set 10 | ures\n",
      "Processing Record 34 of Set 10 | fethiye\n",
      "Processing Record 35 of Set 10 | luanda\n",
      "Processing Record 36 of Set 10 | bilma\n",
      "Processing Record 37 of Set 10 | shawnee\n",
      "Processing Record 38 of Set 10 | ibra\n",
      "Processing Record 39 of Set 10 | pytalovo\n",
      "Processing Record 40 of Set 10 | somerset\n",
      "Processing Record 41 of Set 10 | abbeville\n",
      "Processing Record 42 of Set 10 | longyan\n",
      "Processing Record 43 of Set 10 | tual\n",
      "Processing Record 44 of Set 10 | vila franca do campo\n",
      "Processing Record 45 of Set 10 | xanlar\n",
      "Processing Record 46 of Set 10 | bac lieu\n",
      "Processing Record 47 of Set 10 | luba\n",
      "Processing Record 48 of Set 10 | gunjur\n",
      "Processing Record 49 of Set 10 | verkhoyansk\n",
      "Processing Record 1 of Set 11 | sergeyevka\n",
      "Processing Record 2 of Set 11 | lircay\n",
      "City not found. Skipping...\n",
      "Processing Record 3 of Set 11 | coquimbo\n",
      "Processing Record 4 of Set 11 | ilo\n",
      "Processing Record 5 of Set 11 | luderitz\n",
      "Processing Record 6 of Set 11 | tiznit\n",
      "City not found. Skipping...\n",
      "Processing Record 7 of Set 11 | yabrud\n",
      "Processing Record 8 of Set 11 | hami\n",
      "Processing Record 9 of Set 11 | skara\n",
      "Processing Record 10 of Set 11 | gamba\n",
      "Processing Record 11 of Set 11 | lepaterique\n",
      "City not found. Skipping...\n",
      "City not found. Skipping...\n",
      "Processing Record 12 of Set 11 | novopokrovka\n",
      "Processing Record 13 of Set 11 | brumadinho\n",
      "Processing Record 14 of Set 11 | guerrero negro\n",
      "Processing Record 15 of Set 11 | akureyri\n",
      "Processing Record 16 of Set 11 | cabedelo\n",
      "Processing Record 17 of Set 11 | marquette\n",
      "City not found. Skipping...\n",
      "Processing Record 18 of Set 11 | canto do buriti\n",
      "Processing Record 19 of Set 11 | kozlovka\n",
      "Processing Record 20 of Set 11 | gravdal\n",
      "Processing Record 21 of Set 11 | yenagoa\n",
      "Processing Record 22 of Set 11 | puerto quijarro\n",
      "Processing Record 23 of Set 11 | lichuan\n",
      "Processing Record 24 of Set 11 | awjilah\n",
      "Processing Record 25 of Set 11 | tal\n",
      "Processing Record 26 of Set 11 | havelock\n",
      "Processing Record 27 of Set 11 | hun\n",
      "Processing Record 28 of Set 11 | sobue\n",
      "Processing Record 29 of Set 11 | ambatondrazaka\n",
      "Processing Record 30 of Set 11 | kidal\n",
      "Processing Record 31 of Set 11 | nhulunbuy\n",
      "City not found. Skipping...\n",
      "Processing Record 32 of Set 11 | carnot\n",
      "Processing Record 33 of Set 11 | tiarei\n",
      "Processing Record 34 of Set 11 | mamallapuram\n",
      "Processing Record 35 of Set 11 | morden\n",
      "Processing Record 36 of Set 11 | kavaratti\n",
      "City not found. Skipping...\n",
      "Processing Record 37 of Set 11 | cabo san lucas\n",
      "City not found. Skipping...\n",
      "Processing Record 38 of Set 11 | dalvik\n",
      "Processing Record 39 of Set 11 | tahlequah\n",
      "Processing Record 40 of Set 11 | boguchany\n",
      "Processing Record 41 of Set 11 | muzhi\n",
      "Processing Record 42 of Set 11 | melfi\n",
      "Processing Record 43 of Set 11 | bandarbeyla\n",
      "Processing Record 44 of Set 11 | arlit\n",
      "Processing Record 45 of Set 11 | milas\n",
      "Processing Record 46 of Set 11 | palmer\n",
      "Processing Record 47 of Set 11 | horta\n",
      "Processing Record 48 of Set 11 | plyussa\n",
      "City not found. Skipping...\n",
      "Processing Record 49 of Set 11 | tarakan\n",
      "City not found. Skipping...\n",
      "City not found. Skipping...\n",
      "Processing Record 1 of Set 12 | kadoma\n",
      "Processing Record 2 of Set 12 | outjo\n",
      "Processing Record 3 of Set 12 | key biscayne\n",
      "Processing Record 4 of Set 12 | aloleng\n",
      "Processing Record 5 of Set 12 | cavalcante\n",
      "Processing Record 6 of Set 12 | vilaka\n",
      "Processing Record 7 of Set 12 | euclid\n",
      "Processing Record 8 of Set 12 | lasa\n",
      "Processing Record 9 of Set 12 | lompoc\n",
      "Processing Record 10 of Set 12 | tambopata\n",
      "Processing Record 11 of Set 12 | cururupu\n",
      "Processing Record 12 of Set 12 | linxia\n",
      "Processing Record 13 of Set 12 | mangrol\n",
      "City not found. Skipping...\n",
      "Processing Record 14 of Set 12 | sosnovo-ozerskoye\n",
      "Processing Record 15 of Set 12 | loandjili\n",
      "Processing Record 16 of Set 12 | mashhad\n",
      "Processing Record 17 of Set 12 | chapais\n",
      "Processing Record 18 of Set 12 | banda aceh\n",
      "Processing Record 19 of Set 12 | fortuna\n",
      "Processing Record 20 of Set 12 | birjand\n",
      "Processing Record 21 of Set 12 | chulym\n",
      "Processing Record 22 of Set 12 | borogontsy\n",
      "Processing Record 23 of Set 12 | spring hill\n"
     ]
    },
    {
     "name": "stdout",
     "output_type": "stream",
     "text": [
      "Processing Record 24 of Set 12 | mahabad\n",
      "Processing Record 25 of Set 12 | moree\n",
      "City not found. Skipping...\n",
      "Processing Record 26 of Set 12 | tibati\n",
      "Processing Record 27 of Set 12 | oktyabrskiy\n",
      "Processing Record 28 of Set 12 | portland\n",
      "Processing Record 29 of Set 12 | yanam\n",
      "Processing Record 30 of Set 12 | padang\n",
      "City not found. Skipping...\n",
      "Processing Record 31 of Set 12 | dwarka\n",
      "Processing Record 32 of Set 12 | terrace\n",
      "City not found. Skipping...\n",
      "Processing Record 33 of Set 12 | loyga\n",
      "Processing Record 34 of Set 12 | pacific grove\n",
      "Processing Record 35 of Set 12 | gujar khan\n",
      "Processing Record 36 of Set 12 | calvinia\n",
      "Processing Record 37 of Set 12 | price\n",
      "City not found. Skipping...\n",
      "Processing Record 38 of Set 12 | deputatskiy\n",
      "Processing Record 39 of Set 12 | sattahip\n",
      "Processing Record 40 of Set 12 | rio gallegos\n",
      "Processing Record 41 of Set 12 | ambilobe\n",
      "------------------------------\n",
      "Data Retrieval Complete\n",
      "------------------------------\n"
     ]
    }
   ],
   "source": [
    "# Create lists to store data for dataframe\n",
    "city_two = []\n",
    "cloudinesses = []\n",
    "dates = []\n",
    "humidities = []\n",
    "lats = []\n",
    "lngs = []\n",
    "max_temps = []\n",
    "wind_speeds = []\n",
    "countries = []\n",
    "\n",
    "# loops for creating dataframe columns\n",
    "for city in cities:\n",
    "    try:\n",
    "        response = requests.get(query_url + city.replace(\" \",\"&\")).json()\n",
    "        cloudinesses.append(response['clouds']['all'])\n",
    "        countries.append(response['sys']['country'])\n",
    "        dates.append(response['dt'])\n",
    "        humidities.append(response['main']['humidity'])\n",
    "        lats.append(response['coord']['lat'])\n",
    "        lngs.append(response['coord']['lon'])\n",
    "        max_temps.append(response['main']['temp_max'])\n",
    "        wind_speeds.append(response['wind']['speed'])\n",
    "        if count_one > 48:\n",
    "            count_one = 1\n",
    "            set_one += 1\n",
    "            city_two.append(city)\n",
    "        else:\n",
    "            count_one += 1\n",
    "            city_two.append(city)\n",
    "        print(f\"Processing Record {count_one} of Set {set_one} | {city}\")\n",
    "    except Exception:\n",
    "        print(\"City not found. Skipping...\")\n",
    "print(\"------------------------------\\nData Retrieval Complete\\n------------------------------\")"
   ]
  },
  {
   "cell_type": "markdown",
   "metadata": {},
   "source": [
    "### Convert Raw Data to DataFrame\n",
    "* Export the city data into a .csv.\n",
    "* Display the DataFrame"
   ]
  },
  {
   "cell_type": "code",
   "execution_count": 5,
   "metadata": {},
   "outputs": [],
   "source": [
    "# Create dictionary for dataframe\n",
    "weather_dict = {\n",
    "    \"City\": city_two,\n",
    "    \"Cloudiness\": cloudinesses,\n",
    "    \"Country\": countries,\n",
    "    \"Date\": dates,\n",
    "    \"Humidity\": humidities,\n",
    "    \"Lat\": lats,\n",
    "    \"Lng\": lngs,\n",
    "    \"Max Temp\": max_temps,\n",
    "    \"Wind Speed\": wind_speeds\n",
    "}"
   ]
  },
  {
   "cell_type": "code",
   "execution_count": 6,
   "metadata": {},
   "outputs": [
    {
     "data": {
      "text/html": [
       "<div>\n",
       "<style scoped>\n",
       "    .dataframe tbody tr th:only-of-type {\n",
       "        vertical-align: middle;\n",
       "    }\n",
       "\n",
       "    .dataframe tbody tr th {\n",
       "        vertical-align: top;\n",
       "    }\n",
       "\n",
       "    .dataframe thead th {\n",
       "        text-align: right;\n",
       "    }\n",
       "</style>\n",
       "<table border=\"1\" class=\"dataframe\">\n",
       "  <thead>\n",
       "    <tr style=\"text-align: right;\">\n",
       "      <th></th>\n",
       "      <th>City</th>\n",
       "      <th>Cloudiness</th>\n",
       "      <th>Country</th>\n",
       "      <th>Date</th>\n",
       "      <th>Humidity</th>\n",
       "      <th>Lat</th>\n",
       "      <th>Lng</th>\n",
       "      <th>Max Temp</th>\n",
       "      <th>Wind Speed</th>\n",
       "    </tr>\n",
       "  </thead>\n",
       "  <tbody>\n",
       "    <tr>\n",
       "      <th>0</th>\n",
       "      <td>san ramon</td>\n",
       "      <td>13</td>\n",
       "      <td>ML</td>\n",
       "      <td>1604368830</td>\n",
       "      <td>19</td>\n",
       "      <td>13.30</td>\n",
       "      <td>-4.90</td>\n",
       "      <td>76.68</td>\n",
       "      <td>5.35</td>\n",
       "    </tr>\n",
       "    <tr>\n",
       "      <th>1</th>\n",
       "      <td>dikson</td>\n",
       "      <td>99</td>\n",
       "      <td>RU</td>\n",
       "      <td>1604368831</td>\n",
       "      <td>94</td>\n",
       "      <td>73.51</td>\n",
       "      <td>80.55</td>\n",
       "      <td>14.11</td>\n",
       "      <td>11.01</td>\n",
       "    </tr>\n",
       "    <tr>\n",
       "      <th>2</th>\n",
       "      <td>kahului</td>\n",
       "      <td>40</td>\n",
       "      <td>US</td>\n",
       "      <td>1604368627</td>\n",
       "      <td>55</td>\n",
       "      <td>20.89</td>\n",
       "      <td>-156.47</td>\n",
       "      <td>89.60</td>\n",
       "      <td>19.46</td>\n",
       "    </tr>\n",
       "    <tr>\n",
       "      <th>3</th>\n",
       "      <td>beringovskiy</td>\n",
       "      <td>100</td>\n",
       "      <td>RU</td>\n",
       "      <td>1604368831</td>\n",
       "      <td>89</td>\n",
       "      <td>63.05</td>\n",
       "      <td>179.32</td>\n",
       "      <td>28.62</td>\n",
       "      <td>8.25</td>\n",
       "    </tr>\n",
       "    <tr>\n",
       "      <th>4</th>\n",
       "      <td>progreso</td>\n",
       "      <td>75</td>\n",
       "      <td>MX</td>\n",
       "      <td>1604368667</td>\n",
       "      <td>73</td>\n",
       "      <td>21.28</td>\n",
       "      <td>-89.67</td>\n",
       "      <td>77.00</td>\n",
       "      <td>8.05</td>\n",
       "    </tr>\n",
       "    <tr>\n",
       "      <th>5</th>\n",
       "      <td>port alfred</td>\n",
       "      <td>84</td>\n",
       "      <td>CD</td>\n",
       "      <td>1604368831</td>\n",
       "      <td>54</td>\n",
       "      <td>-7.03</td>\n",
       "      <td>29.76</td>\n",
       "      <td>76.68</td>\n",
       "      <td>3.42</td>\n",
       "    </tr>\n",
       "    <tr>\n",
       "      <th>6</th>\n",
       "      <td>satinka</td>\n",
       "      <td>3</td>\n",
       "      <td>RU</td>\n",
       "      <td>1604368832</td>\n",
       "      <td>89</td>\n",
       "      <td>52.38</td>\n",
       "      <td>41.68</td>\n",
       "      <td>39.83</td>\n",
       "      <td>7.85</td>\n",
       "    </tr>\n",
       "    <tr>\n",
       "      <th>7</th>\n",
       "      <td>hobart</td>\n",
       "      <td>0</td>\n",
       "      <td>AU</td>\n",
       "      <td>1604368832</td>\n",
       "      <td>36</td>\n",
       "      <td>-42.88</td>\n",
       "      <td>147.33</td>\n",
       "      <td>82.99</td>\n",
       "      <td>10.29</td>\n",
       "    </tr>\n",
       "    <tr>\n",
       "      <th>8</th>\n",
       "      <td>boyolangu</td>\n",
       "      <td>68</td>\n",
       "      <td>ID</td>\n",
       "      <td>1604368832</td>\n",
       "      <td>68</td>\n",
       "      <td>-8.12</td>\n",
       "      <td>111.89</td>\n",
       "      <td>83.52</td>\n",
       "      <td>4.72</td>\n",
       "    </tr>\n",
       "    <tr>\n",
       "      <th>9</th>\n",
       "      <td>mar del plata</td>\n",
       "      <td>90</td>\n",
       "      <td>ES</td>\n",
       "      <td>1604368833</td>\n",
       "      <td>100</td>\n",
       "      <td>43.40</td>\n",
       "      <td>-4.01</td>\n",
       "      <td>54.00</td>\n",
       "      <td>4.70</td>\n",
       "    </tr>\n",
       "  </tbody>\n",
       "</table>\n",
       "</div>"
      ],
      "text/plain": [
       "            City  Cloudiness Country        Date  Humidity    Lat     Lng  \\\n",
       "0      san ramon          13      ML  1604368830        19  13.30   -4.90   \n",
       "1         dikson          99      RU  1604368831        94  73.51   80.55   \n",
       "2        kahului          40      US  1604368627        55  20.89 -156.47   \n",
       "3   beringovskiy         100      RU  1604368831        89  63.05  179.32   \n",
       "4       progreso          75      MX  1604368667        73  21.28  -89.67   \n",
       "5    port alfred          84      CD  1604368831        54  -7.03   29.76   \n",
       "6        satinka           3      RU  1604368832        89  52.38   41.68   \n",
       "7         hobart           0      AU  1604368832        36 -42.88  147.33   \n",
       "8      boyolangu          68      ID  1604368832        68  -8.12  111.89   \n",
       "9  mar del plata          90      ES  1604368833       100  43.40   -4.01   \n",
       "\n",
       "   Max Temp  Wind Speed  \n",
       "0     76.68        5.35  \n",
       "1     14.11       11.01  \n",
       "2     89.60       19.46  \n",
       "3     28.62        8.25  \n",
       "4     77.00        8.05  \n",
       "5     76.68        3.42  \n",
       "6     39.83        7.85  \n",
       "7     82.99       10.29  \n",
       "8     83.52        4.72  \n",
       "9     54.00        4.70  "
      ]
     },
     "execution_count": 6,
     "metadata": {},
     "output_type": "execute_result"
    }
   ],
   "source": [
    "#Create dataframe from dictionary\n",
    "weather_df = pd.DataFrame(weather_dict)\n",
    "\n",
    "# show the top of the dataframe\n",
    "weather_df.head(10)"
   ]
  },
  {
   "cell_type": "code",
   "execution_count": 7,
   "metadata": {},
   "outputs": [],
   "source": [
    "# Export dataframe to csv\n",
    "# weather_df.to_csv(\"C:/Users/15038/Desktop/Bootcamp HW/python-api-challenge/WeatherPy/Output/weather_df.csv\")"
   ]
  },
  {
   "cell_type": "markdown",
   "metadata": {},
   "source": [
    "## Inspect the data and remove the cities where the humidity > 100%.\n",
    "----\n",
    "Skip this step if there are no cities that have humidity > 100%. "
   ]
  },
  {
   "cell_type": "code",
   "execution_count": 8,
   "metadata": {},
   "outputs": [
    {
     "data": {
      "text/html": [
       "<div>\n",
       "<style scoped>\n",
       "    .dataframe tbody tr th:only-of-type {\n",
       "        vertical-align: middle;\n",
       "    }\n",
       "\n",
       "    .dataframe tbody tr th {\n",
       "        vertical-align: top;\n",
       "    }\n",
       "\n",
       "    .dataframe thead th {\n",
       "        text-align: right;\n",
       "    }\n",
       "</style>\n",
       "<table border=\"1\" class=\"dataframe\">\n",
       "  <thead>\n",
       "    <tr style=\"text-align: right;\">\n",
       "      <th></th>\n",
       "      <th>City</th>\n",
       "      <th>Cloudiness</th>\n",
       "      <th>Country</th>\n",
       "      <th>Date</th>\n",
       "      <th>Humidity</th>\n",
       "      <th>Lat</th>\n",
       "      <th>Lng</th>\n",
       "      <th>Max Temp</th>\n",
       "      <th>Wind Speed</th>\n",
       "    </tr>\n",
       "  </thead>\n",
       "  <tbody>\n",
       "  </tbody>\n",
       "</table>\n",
       "</div>"
      ],
      "text/plain": [
       "Empty DataFrame\n",
       "Columns: [City, Cloudiness, Country, Date, Humidity, Lat, Lng, Max Temp, Wind Speed]\n",
       "Index: []"
      ]
     },
     "execution_count": 8,
     "metadata": {},
     "output_type": "execute_result"
    }
   ],
   "source": [
    "clean_weather_df = weather_df.loc[weather_df[\"Humidity\"] > 100]\n",
    "clean_weather_df"
   ]
  },
  {
   "cell_type": "code",
   "execution_count": 9,
   "metadata": {},
   "outputs": [],
   "source": [
    "#  Get the indices of cities that have humidity over 100%.\n",
    "# No cities with humidity > 100%"
   ]
  },
  {
   "cell_type": "code",
   "execution_count": 10,
   "metadata": {},
   "outputs": [],
   "source": [
    "# Make a new DataFrame equal to the city data to drop all humidity outliers by index.\n",
    "# Passing \"inplace=False\" will make a copy of the city_data DataFrame, which we call \"clean_city_data\"."
   ]
  },
  {
   "cell_type": "markdown",
   "metadata": {},
   "source": [
    "## Plotting the Data\n",
    "* Use proper labeling of the plots using plot titles (including date of analysis) and axes labels.\n",
    "* Save the plotted figures as .pngs."
   ]
  },
  {
   "cell_type": "markdown",
   "metadata": {},
   "source": [
    "## Latitude vs. Temperature Plot"
   ]
  },
  {
   "cell_type": "code",
   "execution_count": 11,
   "metadata": {
    "scrolled": true
   },
   "outputs": [
    {
     "data": {
      "image/png": "[encoded data removed]",
      "text/plain": [
       "<Figure size 432x288 with 1 Axes>"
      ]
     },
     "metadata": {
      "needs_background": "light"
     },
     "output_type": "display_data"
    }
   ],
   "source": [
    "# Build scatter plot with related data\n",
    "plt.scatter(weather_df[\"Lat\"], weather_df[\"Max Temp\"], facecolors=\"red\", marker=\"o\", edgecolor=\"black\")\n",
    "\n",
    "# Format the graph labels\n",
    "plt.title(\"City Latitude vs. Max Temperature (11/01/2020)\")\n",
    "plt.ylabel(\"Max Temperature (°F)\")\n",
    "plt.xlabel(\"Latitude\")\n",
    "plt.grid(True)\n",
    "\n",
    "# Save Figure\n",
    "plt.savefig(\"Output/Latitude_vs_Temperature.png\")\n",
    "\n",
    "# Show Plot\n",
    "plt.show()"
   ]
  },
  {
   "cell_type": "markdown",
   "metadata": {},
   "source": [
    "# Scatter Plot 1 (Latitude and Temp)\n",
    "#### The code above builds a scatter plot showing the relationship between latitude and temperature. \n",
    "#### As we can see, the farther north we go up the globe, the more the temperature drops. This means the two are correlated. "
   ]
  },
  {
   "cell_type": "markdown",
   "metadata": {},
   "source": [
    "## Latitude vs. Humidity Plot"
   ]
  },
  {
   "cell_type": "code",
   "execution_count": 12,
   "metadata": {},
   "outputs": [
    {
     "data": {
      "image/png": "[encoded data removed]",
      "text/plain": [
       "<Figure size 432x288 with 1 Axes>"
      ]
     },
     "metadata": {
      "needs_background": "light"
     },
     "output_type": "display_data"
    }
   ],
   "source": [
    "# Build scatter plot with related data\n",
    "plt.scatter(weather_df[\"Lat\"], weather_df[\"Humidity\"], facecolors=\"blue\", marker=\"o\", edgecolor=\"black\")\n",
    "\n",
    "# Format graph labels\n",
    "plt.title(\"City Latitude vs. Humidity (11/01/2020)\")\n",
    "plt.ylabel(\"Humidity (%)\")\n",
    "plt.xlabel(\"Latitude\")\n",
    "plt.grid(True)\n",
    "\n",
    "# Save Figure\n",
    "plt.savefig(\"Output/Latitude_vs_Humidity.png\")\n",
    "\n",
    "# Show Plot\n",
    "plt.show()"
   ]
  },
  {
   "cell_type": "markdown",
   "metadata": {},
   "source": [
    "# Scatter Plot 2 (Latitude and Humidity)\n",
    "#### The code above creates a scatter plot, pulling data from the data frame created above (weather_df). \n",
    "#### It demonstrates the relationship between latitude and humididty, which is minimal to none given the random scattering of data. "
   ]
  },
  {
   "cell_type": "markdown",
   "metadata": {},
   "source": [
    "## Latitude vs. Cloudiness Plot"
   ]
  },
  {
   "cell_type": "code",
   "execution_count": 13,
   "metadata": {},
   "outputs": [
    {
     "data": {
      "image/png": "[encoded data removed]",
      "text/plain": [
       "<Figure size 432x288 with 1 Axes>"
      ]
     },
     "metadata": {
      "needs_background": "light"
     },
     "output_type": "display_data"
    }
   ],
   "source": [
    "# Build scatter plot with related data\n",
    "plt.scatter(weather_df[\"Lat\"], weather_df[\"Cloudiness\"], facecolors=\"green\", marker=\"o\", edgecolor=\"black\")\n",
    "\n",
    "# Format graph labels\n",
    "plt.title(\"City Latitude vs. Cloudiness (11/01/2020)\")\n",
    "plt.ylabel(\"Cloudiness (%)\")\n",
    "plt.xlabel(\"Latitude\")\n",
    "plt.grid(True)\n",
    "\n",
    "# Save Figure\n",
    "plt.savefig(\"Output/Latitude_vs_Cloudiness.png\")\n",
    "\n",
    "# Show Plot\n",
    "plt.show()"
   ]
  },
  {
   "cell_type": "markdown",
   "metadata": {},
   "source": [
    "# Scatter Plot 3 (Latitude and Cloudiness)\n",
    "#### The code above creates a scatter plot, pulling data from the data frame created above (weather_df). \n",
    "#### It demonstrates the relationship between latitude and cloudiness, which is minimal to none given the random scattering of data. "
   ]
  },
  {
   "cell_type": "markdown",
   "metadata": {},
   "source": [
    "## Latitude vs. Wind Speed Plot"
   ]
  },
  {
   "cell_type": "code",
   "execution_count": 14,
   "metadata": {},
   "outputs": [
    {
     "data": {
      "image/png": "[encoded data removed]",
      "text/plain": [
       "<Figure size 432x288 with 1 Axes>"
      ]
     },
     "metadata": {
      "needs_background": "light"
     },
     "output_type": "display_data"
    }
   ],
   "source": [
    "# Build scatter plot with related data\n",
    "plt.scatter(weather_df[\"Lat\"], weather_df[\"Wind Speed\"], facecolors=\"yellow\", marker=\"o\", edgecolor=\"black\")\n",
    "\n",
    "# Format graph labels\n",
    "plt.title(\"City Latitude vs. Wind Speed (11/01/2020)\")\n",
    "plt.ylabel(\"Wind Speed (MPH)\")\n",
    "plt.xlabel(\"Latitude\")\n",
    "plt.grid(True)\n",
    "\n",
    "# Save Figure\n",
    "plt.savefig(\"Output/Latitude_vs_Wind_Speed.png\")\n",
    "\n",
    "# Show Plot\n",
    "plt.show()"
   ]
  },
  {
   "cell_type": "markdown",
   "metadata": {},
   "source": [
    "# Scatter Plot 4 (Latitude and Wind Speed)\n",
    "#### The code above creates a scatter plot, pulling data from the data frame created above (weather_df). \n",
    "#### It demonstrates the relationship between latitude and wind speed, which is minimal to none given the random scattering of data. "
   ]
  },
  {
   "cell_type": "markdown",
   "metadata": {},
   "source": [
    "## Linear Regression"
   ]
  },
  {
   "cell_type": "code",
   "execution_count": 15,
   "metadata": {},
   "outputs": [],
   "source": [
    "# Create dataframes for northern and southern cities\n",
    "nothern = weather_df.loc[weather_df[\"Lat\"] >= 0.0]\n",
    "nothern.reset_index(inplace=True)\n",
    "\n",
    "southern = weather_df.loc[weather_df[\"Lat\"] < 0.0]\n",
    "southern.reset_index(inplace=True)"
   ]
  },
  {
   "cell_type": "code",
   "execution_count": 16,
   "metadata": {},
   "outputs": [],
   "source": [
    "# Define regression plot\n",
    "\n",
    "def plotLinearRegression(xdata,ydata,xlbl,ylbl,lblpos,ifig):\n",
    "    (slope, intercept, rvalue, pvalue, stderr) = linregress(xdata, ydata)\n",
    "    print(f\"The r-squared is: {rvalue}\")\n",
    "    regress_values = xdata * slope + intercept\n",
    "    line_eq = \"y = \" + str(round(slope,2)) + \"x + \" + str(round(intercept,2))\n",
    "\n",
    "    plt.scatter(xdata,ydata)\n",
    "    plt.plot(xdata,regress_values,\"r-\")\n",
    "    plt.annotate(line_eq,lblpos,fontsize=15,color=\"red\")\n",
    "    plt.xlabel(xlbl)\n",
    "    plt.ylabel(ylbl)\n",
    "    plt.savefig(f\"output/fig{ifig}.png\")\n",
    "    plt.show()"
   ]
  },
  {
   "cell_type": "markdown",
   "metadata": {},
   "source": [
    "####  Northern Hemisphere - Max Temp vs. Latitude Linear Regression"
   ]
  },
  {
   "cell_type": "code",
   "execution_count": 26,
   "metadata": {},
   "outputs": [
    {
     "name": "stdout",
     "output_type": "stream",
     "text": [
      "The r-squared is: -0.8556868288927618\n"
     ]
    },
    {
     "data": {
      "image/png": "[encoded data removed]",
      "text/plain": [
       "<Figure size 432x288 with 1 Axes>"
      ]
     },
     "metadata": {
      "needs_background": "light"
     },
     "output_type": "display_data"
    }
   ],
   "source": [
    "xlbl = \"Lat\"\n",
    "ylbl = \"Max Temp\"\n",
    "lblpos = (0,20)\n",
    "plotLinearRegression(nothern[xlbl],nothern[ylbl],xlbl,ylbl,lblpos,5)"
   ]
  },
  {
   "cell_type": "markdown",
   "metadata": {},
   "source": [
    "####  Southern Hemisphere - Max Temp vs. Latitude Linear Regression"
   ]
  },
  {
   "cell_type": "code",
   "execution_count": 18,
   "metadata": {},
   "outputs": [
    {
     "name": "stdout",
     "output_type": "stream",
     "text": [
      "The r-squared is: 0.48826581890882753\n"
     ]
    },
    {
     "data": {
      "image/png": "[encoded data removed]",
      "text/plain": [
       "<Figure size 432x288 with 1 Axes>"
      ]
     },
     "metadata": {
      "needs_background": "light"
     },
     "output_type": "display_data"
    }
   ],
   "source": [
    "xlbl = \"Lat\"\n",
    "ylbl = \"Max Temp\"\n",
    "lblpos = (-55,90)\n",
    "plotLinearRegression(southern[xlbl],southern[ylbl],xlbl,ylbl,lblpos,6)"
   ]
  },
  {
   "cell_type": "markdown",
   "metadata": {},
   "source": [
    "# Northern vs Southern & Temp\n",
    "#### These two plots and regression show the relationship between latitude and temperature.\n",
    "#### Latitude has a stronger effect on temperature in the northern hemisphere, as demonstrated by the r value (.85). \n",
    "#### In the south however the correlation is much weaker. There is some trend of temperature rising as we get closer to the equator #### but not much and therefore the r value is much lower (.49). I suspect this is because it is summer in the southern hemisphere which skews the data as it is warmer everywhere.  "
   ]
  },
  {
   "cell_type": "markdown",
   "metadata": {},
   "source": [
    "####  Northern Hemisphere - Humidity (%) vs. Latitude Linear Regression"
   ]
  },
  {
   "cell_type": "code",
   "execution_count": 29,
   "metadata": {},
   "outputs": [
    {
     "name": "stdout",
     "output_type": "stream",
     "text": [
      "The r-squared is: 0.33475189309256836\n"
     ]
    },
    {
     "data": {
      "image/png": "[encoded data removed]",
      "text/plain": [
       "<Figure size 432x288 with 1 Axes>"
      ]
     },
     "metadata": {
      "needs_background": "light"
     },
     "output_type": "display_data"
    }
   ],
   "source": [
    "xlbl = \"Lat\"\n",
    "ylbl = \"Humidity\"\n",
    "lblpos = (40,20)\n",
    "plotLinearRegression(nothern[xlbl],nothern[ylbl],xlbl,ylbl,lblpos,7)"
   ]
  },
  {
   "cell_type": "markdown",
   "metadata": {},
   "source": [
    "####  Southern Hemisphere - Humidity (%) vs. Latitude Linear Regression"
   ]
  },
  {
   "cell_type": "code",
   "execution_count": 20,
   "metadata": {},
   "outputs": [
    {
     "name": "stdout",
     "output_type": "stream",
     "text": [
      "The r-squared is: 0.17752341579148895\n"
     ]
    },
    {
     "data": {
      "image/png": "[encoded data removed]",
      "text/plain": [
       "<Figure size 432x288 with 1 Axes>"
      ]
     },
     "metadata": {
      "needs_background": "light"
     },
     "output_type": "display_data"
    }
   ],
   "source": [
    "xlbl = \"Lat\"\n",
    "ylbl = \"Humidity\"\n",
    "lblpos = (-50,35)\n",
    "plotLinearRegression(southern[xlbl],southern[ylbl],xlbl,ylbl,lblpos,8)"
   ]
  },
  {
   "cell_type": "markdown",
   "metadata": {},
   "source": [
    "####  Northern Hemisphere - Cloudiness (%) vs. Latitude Linear Regression"
   ]
  },
  {
   "cell_type": "code",
   "execution_count": 21,
   "metadata": {},
   "outputs": [
    {
     "name": "stdout",
     "output_type": "stream",
     "text": [
      "The r-squared is: 0.2977726552117434\n"
     ]
    },
    {
     "data": {
      "image/png": "[encoded data removed]",
      "text/plain": [
       "<Figure size 432x288 with 1 Axes>"
      ]
     },
     "metadata": {
      "needs_background": "light"
     },
     "output_type": "display_data"
    }
   ],
   "source": [
    "xlbl = \"Lat\"\n",
    "ylbl = \"Cloudiness\"\n",
    "lblpos = (45,10)\n",
    "plotLinearRegression(nothern[xlbl],nothern[ylbl],xlbl,ylbl,lblpos,7)"
   ]
  },
  {
   "cell_type": "markdown",
   "metadata": {},
   "source": [
    "####  Southern Hemisphere - Cloudiness (%) vs. Latitude Linear Regression"
   ]
  },
  {
   "cell_type": "code",
   "execution_count": 22,
   "metadata": {},
   "outputs": [
    {
     "name": "stdout",
     "output_type": "stream",
     "text": [
      "The r-squared is: 0.2685672015967367\n"
     ]
    },
    {
     "data": {
      "image/png": "[encoded data removed]",
      "text/plain": [
       "<Figure size 432x288 with 1 Axes>"
      ]
     },
     "metadata": {
      "needs_background": "light"
     },
     "output_type": "display_data"
    }
   ],
   "source": [
    "xlbl = \"Lat\"\n",
    "ylbl = \"Cloudiness\"\n",
    "lblpos = (-55,15)\n",
    "plotLinearRegression(southern[xlbl],southern[ylbl],xlbl,ylbl,lblpos,8)"
   ]
  },
  {
   "cell_type": "markdown",
   "metadata": {},
   "source": [
    "####  Northern Hemisphere - Wind Speed (mph) vs. Latitude Linear Regression"
   ]
  },
  {
   "cell_type": "code",
   "execution_count": 27,
   "metadata": {},
   "outputs": [
    {
     "name": "stdout",
     "output_type": "stream",
     "text": [
      "The r-squared is: 0.29235577862551143\n"
     ]
    },
    {
     "data": {
      "image/png": "[encoded data removed]",
      "text/plain": [
       "<Figure size 432x288 with 1 Axes>"
      ]
     },
     "metadata": {
      "needs_background": "light"
     },
     "output_type": "display_data"
    }
   ],
   "source": [
    "xlbl = \"Lat\"\n",
    "ylbl = \"Wind Speed\"\n",
    "lblpos = (10,30)\n",
    "plotLinearRegression(nothern[xlbl],nothern[ylbl],xlbl,ylbl,lblpos,7)"
   ]
  },
  {
   "cell_type": "markdown",
   "metadata": {},
   "source": [
    "####  Southern Hemisphere - Wind Speed (mph) vs. Latitude Linear Regression"
   ]
  },
  {
   "cell_type": "code",
   "execution_count": 24,
   "metadata": {},
   "outputs": [
    {
     "name": "stdout",
     "output_type": "stream",
     "text": [
      "The r-squared is: -0.3614635201770625\n"
     ]
    },
    {
     "data": {
      "image/png": "[encoded data removed]",
      "text/plain": [
       "<Figure size 432x288 with 1 Axes>"
      ]
     },
     "metadata": {
      "needs_background": "light"
     },
     "output_type": "display_data"
    }
   ],
   "source": [
    "xlbl = \"Lat\"\n",
    "ylbl = \"Wind Speed\"\n",
    "lblpos = (-55,15)\n",
    "plotLinearRegression(southern[xlbl],southern[ylbl],xlbl,ylbl,lblpos,8)"
   ]
  },
  {
   "cell_type": "code",
   "execution_count": null,
   "metadata": {},
   "outputs": [],
   "source": []
  }
 ],
 "metadata": {
  "anaconda-cloud": {},
  "kernel_info": {
   "name": "python3"
  },
  "kernelspec": {
   "display_name": "Python 3",
   "language": "python",
   "name": "python3"
  },
  "language_info": {
   "codemirror_mode": {
    "name": "ipython",
    "version": 3
   },
   "file_extension": ".py",
   "mimetype": "text/x-python",
   "name": "python",
   "nbconvert_exporter": "python",
   "pygments_lexer": "ipython3",
   "version": "3.6.10"
  },
  "latex_envs": {
   "LaTeX_envs_menu_present": true,
   "autoclose": false,
   "autocomplete": true,
   "bibliofile": "biblio.bib",
   "cite_by": "apalike",
   "current_citInitial": 1,
   "eqLabelWithNumbers": true,
   "eqNumInitial": 1,
   "hotkeys": {
    "equation": "Ctrl-E",
    "itemize": "Ctrl-I"
   },
   "labels_anchors": false,
   "latex_user_defs": false,
   "report_style_numbering": false,
   "user_envs_cfg": false
  },
  "nteract": {
   "version": "0.12.3"
  }
 },
 "nbformat": 4,
 "nbformat_minor": 2
}
