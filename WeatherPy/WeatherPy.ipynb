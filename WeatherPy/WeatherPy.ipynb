{
 "cells": [
  {
   "cell_type": "markdown",
   "metadata": {},
   "source": [
    "# WeatherPy\n",
    "----\n",
    "\n",
    "#### Note\n",
    "* Instructions have been included for each segment. You do not have to follow them exactly, but they are included to help you think through the steps."
   ]
  },
  {
   "cell_type": "code",
   "execution_count": 1,
   "metadata": {
    "scrolled": true
   },
   "outputs": [],
   "source": [
    "# Dependencies and Setup\n",
    "import matplotlib.pyplot as plt\n",
    "import pandas as pd\n",
    "import numpy as np\n",
    "import requests\n",
    "import time\n",
    "from scipy.stats import linregress\n",
    "\n",
    "# Import API key\n",
    "from api_keys import weather_api_key\n",
    "\n",
    "# Incorporated citipy to determine city based on latitude and longitude\n",
    "from citipy import citipy\n",
    "\n",
    "# Output File (CSV)\n",
    "output_data_file = \"output_data/cities.csv\"\n",
    "\n",
    "# Range of latitudes and longitudes\n",
    "lat_range = (-90, 90)\n",
    "lng_range = (-180, 180)"
   ]
  },
  {
   "cell_type": "markdown",
   "metadata": {},
   "source": [
    "## Generate Cities List"
   ]
  },
  {
   "cell_type": "code",
   "execution_count": 2,
   "metadata": {},
   "outputs": [
    {
     "data": {
      "text/plain": [
       "587"
      ]
     },
     "execution_count": 2,
     "metadata": {},
     "output_type": "execute_result"
    }
   ],
   "source": [
    "# List for holding lat_lngs and cities\n",
    "lat_lngs = []\n",
    "cities = []\n",
    "\n",
    "# Create a set of random lat and lng combinations\n",
    "lats = np.random.uniform(lat_range[0], lat_range[1], size=1500)\n",
    "lngs = np.random.uniform(lng_range[0], lng_range[1], size=1500)\n",
    "lat_lngs = zip(lats, lngs)\n",
    "\n",
    "# Identify nearest city for each lat, lng combination\n",
    "for lat_lng in lat_lngs:\n",
    "    city = citipy.nearest_city(lat_lng[0], lat_lng[1]).city_name\n",
    "    \n",
    "    # If the city is unique, then add it to a our cities list\n",
    "    if city not in cities:\n",
    "        cities.append(city)\n",
    "\n",
    "# Print the city count to confirm sufficient count\n",
    "len(cities)"
   ]
  },
  {
   "cell_type": "markdown",
   "metadata": {},
   "source": [
    "### Perform API Calls\n",
    "* Perform a weather check on each city using a series of successive API calls.\n",
    "* Include a print log of each city as it'sbeing processed (with the city number and city name).\n"
   ]
  },
  {
   "cell_type": "code",
   "execution_count": 3,
   "metadata": {
    "scrolled": true
   },
   "outputs": [
    {
     "name": "stdout",
     "output_type": "stream",
     "text": [
      "http://api.openweathermap.org/data/2.5/weather?appid=28dd5bd9fdcd0365d2a88aabf63d3125&units=imperial&q=\n"
     ]
    }
   ],
   "source": [
    "# OpenWeather Key\n",
    "api_key = weather_api_key\n",
    "units = \"imperial\"\n",
    "\n",
    "query_url = f\"http://api.openweathermap.org/data/2.5/weather?appid={api_key}&units={units}&q=\"\n",
    "\n",
    "# define count of pass throughs \n",
    "count_one = 0\n",
    "set_one = 1\n",
    "\n",
    "print(query_url)"
   ]
  },
  {
   "cell_type": "code",
   "execution_count": 4,
   "metadata": {},
   "outputs": [
    {
     "name": "stdout",
     "output_type": "stream",
     "text": [
      "Processing Record 1 of Set 1 | busselton\n",
      "Processing Record 2 of Set 1 | shwebo\n",
      "City not found. Skipping...\n",
      "Processing Record 3 of Set 1 | barrow\n",
      "Processing Record 4 of Set 1 | qaanaaq\n",
      "City not found. Skipping...\n",
      "Processing Record 5 of Set 1 | thompson\n",
      "Processing Record 6 of Set 1 | buala\n",
      "Processing Record 7 of Set 1 | viedma\n",
      "Processing Record 8 of Set 1 | chokurdakh\n",
      "Processing Record 9 of Set 1 | camacha\n",
      "Processing Record 10 of Set 1 | portland\n",
      "Processing Record 11 of Set 1 | khatanga\n",
      "Processing Record 12 of Set 1 | ushuaia\n",
      "Processing Record 13 of Set 1 | souillac\n",
      "Processing Record 14 of Set 1 | mataura\n",
      "Processing Record 15 of Set 1 | rikitea\n",
      "Processing Record 16 of Set 1 | ribeira grande\n",
      "Processing Record 17 of Set 1 | banda aceh\n",
      "Processing Record 18 of Set 1 | provideniya\n",
      "Processing Record 19 of Set 1 | alamosa\n",
      "City not found. Skipping...\n",
      "Processing Record 20 of Set 1 | albany\n",
      "Processing Record 21 of Set 1 | udachnyy\n",
      "Processing Record 22 of Set 1 | lebu\n",
      "Processing Record 23 of Set 1 | rio grande\n",
      "Processing Record 24 of Set 1 | bengkulu\n",
      "Processing Record 25 of Set 1 | bluff\n",
      "Processing Record 26 of Set 1 | mackenzie\n",
      "Processing Record 27 of Set 1 | ballina\n",
      "Processing Record 28 of Set 1 | dikson\n",
      "Processing Record 29 of Set 1 | jasper\n",
      "Processing Record 30 of Set 1 | honningsvag\n",
      "Processing Record 31 of Set 1 | vaini\n",
      "Processing Record 32 of Set 1 | saint-georges\n",
      "Processing Record 33 of Set 1 | tuktoyaktuk\n",
      "Processing Record 34 of Set 1 | iquique\n",
      "Processing Record 35 of Set 1 | okato\n",
      "Processing Record 36 of Set 1 | jamestown\n",
      "Processing Record 37 of Set 1 | kapaa\n",
      "Processing Record 38 of Set 1 | port alfred\n",
      "Processing Record 39 of Set 1 | kenai\n",
      "Processing Record 40 of Set 1 | cherskiy\n",
      "Processing Record 41 of Set 1 | sur\n",
      "Processing Record 42 of Set 1 | mehamn\n",
      "City not found. Skipping...\n",
      "Processing Record 43 of Set 1 | bredasdorp\n",
      "Processing Record 44 of Set 1 | faanui\n",
      "City not found. Skipping...\n",
      "City not found. Skipping...\n",
      "Processing Record 45 of Set 1 | nome\n",
      "Processing Record 46 of Set 1 | constitucion\n",
      "Processing Record 47 of Set 1 | akbarpur\n",
      "Processing Record 48 of Set 1 | kodiak\n",
      "Processing Record 49 of Set 1 | nikolskoye\n",
      "Processing Record 1 of Set 2 | espumoso\n",
      "Processing Record 2 of Set 2 | praia da vitoria\n",
      "Processing Record 3 of Set 2 | soyo\n",
      "Processing Record 4 of Set 2 | castro\n",
      "Processing Record 5 of Set 2 | richards bay\n",
      "Processing Record 6 of Set 2 | rio amarillo\n",
      "City not found. Skipping...\n",
      "City not found. Skipping...\n",
      "Processing Record 7 of Set 2 | kaitangata\n",
      "Processing Record 8 of Set 2 | bulawayo\n",
      "Processing Record 9 of Set 2 | saint-philippe\n",
      "Processing Record 10 of Set 2 | meulaboh\n",
      "Processing Record 11 of Set 2 | san policarpo\n",
      "Processing Record 12 of Set 2 | hobart\n",
      "City not found. Skipping...\n",
      "Processing Record 13 of Set 2 | puerto escondido\n",
      "City not found. Skipping...\n",
      "Processing Record 14 of Set 2 | punta arenas\n",
      "Processing Record 15 of Set 2 | kavieng\n",
      "Processing Record 16 of Set 2 | longyearbyen\n",
      "City not found. Skipping...\n",
      "Processing Record 17 of Set 2 | cape town\n",
      "Processing Record 18 of Set 2 | khandbari\n",
      "Processing Record 19 of Set 2 | college\n",
      "Processing Record 20 of Set 2 | shellbrook\n",
      "Processing Record 21 of Set 2 | sabang\n",
      "Processing Record 22 of Set 2 | kruisfontein\n",
      "City not found. Skipping...\n",
      "Processing Record 23 of Set 2 | huntingdon\n",
      "Processing Record 24 of Set 2 | hermanus\n",
      "Processing Record 25 of Set 2 | salalah\n",
      "City not found. Skipping...\n",
      "Processing Record 26 of Set 2 | klaksvik\n",
      "Processing Record 27 of Set 2 | bambous virieux\n",
      "Processing Record 28 of Set 2 | port lincoln\n",
      "Processing Record 29 of Set 2 | mys shmidta\n",
      "Processing Record 30 of Set 2 | montepuez\n",
      "Processing Record 31 of Set 2 | tucuman\n",
      "Processing Record 32 of Set 2 | lompoc\n",
      "Processing Record 33 of Set 2 | puerto ayora\n",
      "City not found. Skipping...\n",
      "Processing Record 34 of Set 2 | deputatskiy\n",
      "Processing Record 35 of Set 2 | tasiilaq\n",
      "City not found. Skipping...\n",
      "Processing Record 36 of Set 2 | atuona\n",
      "City not found. Skipping...\n",
      "Processing Record 37 of Set 2 | batagay-alyta\n",
      "Processing Record 38 of Set 2 | gazanjyk\n",
      "Processing Record 39 of Set 2 | butaritari\n",
      "Processing Record 40 of Set 2 | mar del plata\n",
      "Processing Record 41 of Set 2 | bainbridge\n",
      "Processing Record 42 of Set 2 | chapais\n",
      "Processing Record 43 of Set 2 | camana\n",
      "Processing Record 44 of Set 2 | eureka\n",
      "City not found. Skipping...\n",
      "Processing Record 45 of Set 2 | lavrentiya\n",
      "City not found. Skipping...\n",
      "Processing Record 46 of Set 2 | vestmannaeyjar\n",
      "Processing Record 47 of Set 2 | yayva\n",
      "Processing Record 48 of Set 2 | gorontalo\n",
      "Processing Record 49 of Set 2 | acarau\n",
      "Processing Record 1 of Set 3 | saskylakh\n",
      "Processing Record 2 of Set 3 | olbia\n",
      "Processing Record 3 of Set 3 | ponta do sol\n",
      "Processing Record 4 of Set 3 | pisco\n",
      "Processing Record 5 of Set 3 | orotukan\n",
      "Processing Record 6 of Set 3 | grand gaube\n",
      "Processing Record 7 of Set 3 | trincomalee\n",
      "Processing Record 8 of Set 3 | iqaluit\n",
      "Processing Record 9 of Set 3 | hilo\n",
      "Processing Record 10 of Set 3 | airai\n",
      "Processing Record 11 of Set 3 | namibe\n",
      "City not found. Skipping...\n",
      "Processing Record 12 of Set 3 | mahebourg\n",
      "Processing Record 13 of Set 3 | rancho palos verdes\n",
      "Processing Record 14 of Set 3 | gravelbourg\n",
      "City not found. Skipping...\n",
      "Processing Record 15 of Set 3 | labateca\n",
      "Processing Record 16 of Set 3 | komsomolskiy\n",
      "Processing Record 17 of Set 3 | yabrud\n",
      "Processing Record 18 of Set 3 | pringsewu\n",
      "Processing Record 19 of Set 3 | porto belo\n",
      "Processing Record 20 of Set 3 | kavaratti\n",
      "Processing Record 21 of Set 3 | baudh\n",
      "Processing Record 22 of Set 3 | baruun-urt\n",
      "Processing Record 23 of Set 3 | meadow lake\n",
      "Processing Record 24 of Set 3 | padang\n",
      "Processing Record 25 of Set 3 | morondava\n",
      "Processing Record 26 of Set 3 | norman wells\n",
      "Processing Record 27 of Set 3 | geraldton\n",
      "Processing Record 28 of Set 3 | hualmay\n",
      "Processing Record 29 of Set 3 | asau\n",
      "Processing Record 30 of Set 3 | ibra\n",
      "Processing Record 31 of Set 3 | new norfolk\n",
      "Processing Record 32 of Set 3 | luderitz\n",
      "Processing Record 33 of Set 3 | kirando\n",
      "Processing Record 34 of Set 3 | miraflores\n",
      "Processing Record 35 of Set 3 | esperance\n",
      "Processing Record 36 of Set 3 | chuy\n",
      "Processing Record 37 of Set 3 | upernavik\n",
      "Processing Record 38 of Set 3 | hithadhoo\n",
      "City not found. Skipping...\n",
      "Processing Record 39 of Set 3 | wonthaggi\n",
      "Processing Record 40 of Set 3 | paredon\n",
      "Processing Record 41 of Set 3 | khorixas\n",
      "Processing Record 42 of Set 3 | davila\n",
      "Processing Record 43 of Set 3 | xunchang\n",
      "Processing Record 44 of Set 3 | dingle\n",
      "Processing Record 45 of Set 3 | bay roberts\n",
      "City not found. Skipping...\n",
      "Processing Record 46 of Set 3 | husavik\n",
      "Processing Record 47 of Set 3 | loukhi\n",
      "Processing Record 48 of Set 3 | tazovskiy\n",
      "Processing Record 49 of Set 3 | ketchikan\n",
      "Processing Record 1 of Set 4 | port hardy\n",
      "City not found. Skipping...\n",
      "Processing Record 2 of Set 4 | vila do maio\n",
      "Processing Record 3 of Set 4 | benicia\n",
      "Processing Record 4 of Set 4 | izhma\n",
      "City not found. Skipping...\n",
      "City not found. Skipping...\n",
      "City not found. Skipping...\n",
      "Processing Record 5 of Set 4 | lorengau\n",
      "Processing Record 6 of Set 4 | yerbogachen\n",
      "Processing Record 7 of Set 4 | cidreira\n",
      "Processing Record 8 of Set 4 | podporozhye\n",
      "Processing Record 9 of Set 4 | pacific grove\n",
      "Processing Record 10 of Set 4 | altamira\n",
      "Processing Record 11 of Set 4 | port keats\n",
      "Processing Record 12 of Set 4 | torbay\n",
      "City not found. Skipping...\n",
      "Processing Record 13 of Set 4 | bratslav\n",
      "Processing Record 14 of Set 4 | sao filipe\n",
      "City not found. Skipping...\n",
      "Processing Record 15 of Set 4 | palauig\n",
      "City not found. Skipping...\n",
      "Processing Record 16 of Set 4 | caravelas\n",
      "Processing Record 17 of Set 4 | ulety\n",
      "Processing Record 18 of Set 4 | mandalgovi\n",
      "Processing Record 19 of Set 4 | avarua\n",
      "Processing Record 20 of Set 4 | lata\n",
      "Processing Record 21 of Set 4 | antsohihy\n",
      "City not found. Skipping...\n",
      "Processing Record 22 of Set 4 | georgetown\n",
      "Processing Record 23 of Set 4 | nemuro\n",
      "Processing Record 24 of Set 4 | rawson\n",
      "Processing Record 25 of Set 4 | okhotsk\n",
      "Processing Record 26 of Set 4 | san patricio\n",
      "Processing Record 27 of Set 4 | macapa\n",
      "Processing Record 28 of Set 4 | dunedin\n",
      "Processing Record 29 of Set 4 | chinchani\n",
      "Processing Record 30 of Set 4 | tezu\n",
      "Processing Record 31 of Set 4 | sitka\n",
      "Processing Record 32 of Set 4 | zhigansk\n"
     ]
    },
    {
     "name": "stdout",
     "output_type": "stream",
     "text": [
      "Processing Record 33 of Set 4 | golden\n",
      "Processing Record 34 of Set 4 | tromso\n",
      "Processing Record 35 of Set 4 | port elizabeth\n",
      "Processing Record 36 of Set 4 | pevek\n",
      "Processing Record 37 of Set 4 | alice springs\n",
      "Processing Record 38 of Set 4 | tuatapere\n",
      "City not found. Skipping...\n",
      "Processing Record 39 of Set 4 | labuhan\n",
      "Processing Record 40 of Set 4 | houma\n",
      "Processing Record 41 of Set 4 | guerrero negro\n",
      "Processing Record 42 of Set 4 | misratah\n",
      "Processing Record 43 of Set 4 | touros\n",
      "Processing Record 44 of Set 4 | aykhal\n",
      "Processing Record 45 of Set 4 | port blair\n",
      "Processing Record 46 of Set 4 | tual\n",
      "Processing Record 47 of Set 4 | merzifon\n",
      "Processing Record 48 of Set 4 | sapouy\n",
      "Processing Record 49 of Set 4 | ilulissat\n",
      "City not found. Skipping...\n",
      "Processing Record 1 of Set 5 | hasaki\n",
      "Processing Record 2 of Set 5 | itarare\n",
      "Processing Record 3 of Set 5 | zeya\n",
      "City not found. Skipping...\n",
      "Processing Record 4 of Set 5 | inverell\n",
      "Processing Record 5 of Set 5 | turukhansk\n",
      "Processing Record 6 of Set 5 | tiksi\n",
      "Processing Record 7 of Set 5 | valparaiso\n",
      "Processing Record 8 of Set 5 | carnarvon\n",
      "Processing Record 9 of Set 5 | port moresby\n",
      "City not found. Skipping...\n",
      "Processing Record 10 of Set 5 | garowe\n",
      "Processing Record 11 of Set 5 | yellowknife\n",
      "Processing Record 12 of Set 5 | maumere\n",
      "Processing Record 13 of Set 5 | saldanha\n",
      "Processing Record 14 of Set 5 | basti\n",
      "Processing Record 15 of Set 5 | matagami\n",
      "Processing Record 16 of Set 5 | makakilo city\n",
      "Processing Record 17 of Set 5 | pacifica\n",
      "Processing Record 18 of Set 5 | kloulklubed\n",
      "Processing Record 19 of Set 5 | manavalakurichi\n",
      "Processing Record 20 of Set 5 | kilindoni\n",
      "City not found. Skipping...\n",
      "City not found. Skipping...\n",
      "Processing Record 21 of Set 5 | nyurba\n",
      "City not found. Skipping...\n",
      "Processing Record 22 of Set 5 | arraial do cabo\n",
      "Processing Record 23 of Set 5 | olinda\n",
      "Processing Record 24 of Set 5 | tonj\n",
      "Processing Record 25 of Set 5 | noumea\n",
      "Processing Record 26 of Set 5 | sagarejo\n",
      "Processing Record 27 of Set 5 | yeppoon\n",
      "Processing Record 28 of Set 5 | ngara\n",
      "Processing Record 29 of Set 5 | beringovskiy\n",
      "Processing Record 30 of Set 5 | ternate\n",
      "Processing Record 31 of Set 5 | vitim\n",
      "Processing Record 32 of Set 5 | tabas\n",
      "Processing Record 33 of Set 5 | gao\n",
      "Processing Record 34 of Set 5 | kamenka\n",
      "City not found. Skipping...\n",
      "Processing Record 35 of Set 5 | dukat\n",
      "Processing Record 36 of Set 5 | vila franca do campo\n",
      "Processing Record 37 of Set 5 | severo-kurilsk\n",
      "Processing Record 38 of Set 5 | beaverlodge\n",
      "Processing Record 39 of Set 5 | jingdezhen\n",
      "Processing Record 40 of Set 5 | fairbanks\n",
      "Processing Record 41 of Set 5 | east london\n",
      "Processing Record 42 of Set 5 | saint-pierre\n",
      "City not found. Skipping...\n",
      "Processing Record 43 of Set 5 | honiara\n",
      "Processing Record 44 of Set 5 | sioux lookout\n",
      "Processing Record 45 of Set 5 | nkhotakota\n",
      "Processing Record 46 of Set 5 | lodja\n",
      "Processing Record 47 of Set 5 | baherden\n",
      "Processing Record 48 of Set 5 | guadalupe victoria\n",
      "Processing Record 49 of Set 5 | buta\n",
      "Processing Record 1 of Set 6 | memaliaj\n",
      "Processing Record 2 of Set 6 | manokwari\n",
      "Processing Record 3 of Set 6 | kewanee\n",
      "Processing Record 4 of Set 6 | hami\n",
      "Processing Record 5 of Set 6 | jijiga\n",
      "Processing Record 6 of Set 6 | san jose\n",
      "Processing Record 7 of Set 6 | nikki\n",
      "Processing Record 8 of Set 6 | ahipara\n",
      "Processing Record 9 of Set 6 | gobabis\n",
      "Processing Record 10 of Set 6 | thinadhoo\n",
      "Processing Record 11 of Set 6 | kahului\n",
      "Processing Record 12 of Set 6 | diffa\n",
      "Processing Record 13 of Set 6 | katherine\n",
      "Processing Record 14 of Set 6 | solnechnyy\n",
      "City not found. Skipping...\n",
      "Processing Record 15 of Set 6 | diamantina\n",
      "Processing Record 16 of Set 6 | bastrop\n",
      "Processing Record 17 of Set 6 | atuntaqui\n",
      "Processing Record 18 of Set 6 | shenjiamen\n",
      "Processing Record 19 of Set 6 | pochutla\n",
      "Processing Record 20 of Set 6 | majene\n",
      "Processing Record 21 of Set 6 | wloszczowa\n",
      "Processing Record 22 of Set 6 | roald\n",
      "Processing Record 23 of Set 6 | sept-iles\n",
      "Processing Record 24 of Set 6 | osorio\n",
      "Processing Record 25 of Set 6 | aitape\n",
      "Processing Record 26 of Set 6 | itupiranga\n",
      "Processing Record 27 of Set 6 | porosozero\n",
      "Processing Record 28 of Set 6 | gambiran\n",
      "Processing Record 29 of Set 6 | bryan\n",
      "Processing Record 30 of Set 6 | rehoboth\n",
      "Processing Record 31 of Set 6 | krasnoarmeysk\n",
      "Processing Record 32 of Set 6 | suntar\n",
      "Processing Record 33 of Set 6 | namatanai\n",
      "Processing Record 34 of Set 6 | victoria\n",
      "Processing Record 35 of Set 6 | genhe\n",
      "City not found. Skipping...\n",
      "Processing Record 36 of Set 6 | hambantota\n",
      "Processing Record 37 of Set 6 | beidao\n",
      "Processing Record 38 of Set 6 | tessalit\n",
      "Processing Record 39 of Set 6 | ostrovnoy\n",
      "City not found. Skipping...\n",
      "Processing Record 40 of Set 6 | loubomo\n",
      "Processing Record 41 of Set 6 | suamico\n",
      "City not found. Skipping...\n",
      "Processing Record 42 of Set 6 | susice\n",
      "Processing Record 43 of Set 6 | kosh-agach\n",
      "Processing Record 44 of Set 6 | sorong\n",
      "City not found. Skipping...\n",
      "Processing Record 45 of Set 6 | nanortalik\n",
      "Processing Record 46 of Set 6 | inirida\n",
      "Processing Record 47 of Set 6 | ormara\n",
      "Processing Record 48 of Set 6 | casablanca\n",
      "City not found. Skipping...\n",
      "Processing Record 49 of Set 6 | narsaq\n",
      "Processing Record 1 of Set 7 | rafaela\n",
      "Processing Record 2 of Set 7 | changuinola\n",
      "Processing Record 3 of Set 7 | marica\n",
      "Processing Record 4 of Set 7 | katsuura\n",
      "Processing Record 5 of Set 7 | denpasar\n",
      "Processing Record 6 of Set 7 | samarai\n",
      "Processing Record 7 of Set 7 | naze\n",
      "Processing Record 8 of Set 7 | acari\n",
      "Processing Record 9 of Set 7 | progreso\n",
      "Processing Record 10 of Set 7 | dourbali\n",
      "Processing Record 11 of Set 7 | alofi\n",
      "Processing Record 12 of Set 7 | saint-joseph\n",
      "City not found. Skipping...\n",
      "City not found. Skipping...\n",
      "Processing Record 13 of Set 7 | zapolyarnyy\n",
      "Processing Record 14 of Set 7 | bafq\n",
      "Processing Record 15 of Set 7 | spas\n",
      "Processing Record 16 of Set 7 | tiganasi\n",
      "City not found. Skipping...\n",
      "Processing Record 17 of Set 7 | madang\n",
      "Processing Record 18 of Set 7 | haines junction\n",
      "Processing Record 19 of Set 7 | pasan\n",
      "Processing Record 20 of Set 7 | tirlyanskiy\n",
      "Processing Record 21 of Set 7 | gulf gate estates\n",
      "Processing Record 22 of Set 7 | rocha\n",
      "City not found. Skipping...\n",
      "Processing Record 23 of Set 7 | kedgwick\n",
      "Processing Record 24 of Set 7 | cutlerville\n",
      "Processing Record 25 of Set 7 | grand river south east\n",
      "City not found. Skipping...\n",
      "Processing Record 26 of Set 7 | avera\n",
      "Processing Record 27 of Set 7 | gore\n",
      "City not found. Skipping...\n",
      "Processing Record 28 of Set 7 | leningradskiy\n",
      "Processing Record 29 of Set 7 | quesnel\n",
      "City not found. Skipping...\n",
      "Processing Record 30 of Set 7 | nouadhibou\n",
      "Processing Record 31 of Set 7 | san quintin\n",
      "Processing Record 32 of Set 7 | ithaca\n",
      "Processing Record 33 of Set 7 | springdale\n",
      "Processing Record 34 of Set 7 | clyde river\n",
      "Processing Record 35 of Set 7 | bentiu\n",
      "Processing Record 36 of Set 7 | wanning\n",
      "City not found. Skipping...\n",
      "Processing Record 37 of Set 7 | jumla\n",
      "Processing Record 38 of Set 7 | port hedland\n",
      "Processing Record 39 of Set 7 | odessa\n",
      "Processing Record 40 of Set 7 | troitskoye\n",
      "Processing Record 41 of Set 7 | port macquarie\n",
      "Processing Record 42 of Set 7 | middelburg\n",
      "Processing Record 43 of Set 7 | qianan\n",
      "Processing Record 44 of Set 7 | kununurra\n",
      "Processing Record 45 of Set 7 | vardo\n",
      "Processing Record 46 of Set 7 | florianopolis\n",
      "Processing Record 47 of Set 7 | beasain\n",
      "Processing Record 48 of Set 7 | kijang\n",
      "Processing Record 49 of Set 7 | kjollefjord\n",
      "Processing Record 1 of Set 8 | balfour\n",
      "Processing Record 2 of Set 8 | kolda\n",
      "Processing Record 3 of Set 8 | sabha\n",
      "Processing Record 4 of Set 8 | bonavista\n",
      "City not found. Skipping...\n",
      "Processing Record 5 of Set 8 | carutapera\n",
      "Processing Record 6 of Set 8 | adrar\n",
      "Processing Record 7 of Set 8 | zhuhai\n",
      "Processing Record 8 of Set 8 | cayenne\n",
      "Processing Record 9 of Set 8 | namtsy\n",
      "Processing Record 10 of Set 8 | bandarbeyla\n",
      "Processing Record 11 of Set 8 | saint-augustin\n",
      "Processing Record 12 of Set 8 | edea\n",
      "Processing Record 13 of Set 8 | san martin de hidalgo\n",
      "Processing Record 14 of Set 8 | lubango\n",
      "Processing Record 15 of Set 8 | jalalabad\n",
      "Processing Record 16 of Set 8 | deh rawud\n",
      "City not found. Skipping...\n",
      "Processing Record 17 of Set 8 | kamakwie\n",
      "Processing Record 18 of Set 8 | necochea\n",
      "City not found. Skipping...\n"
     ]
    },
    {
     "name": "stdout",
     "output_type": "stream",
     "text": [
      "Processing Record 19 of Set 8 | acapulco\n",
      "Processing Record 20 of Set 8 | yanam\n",
      "Processing Record 21 of Set 8 | hailey\n",
      "Processing Record 22 of Set 8 | loviisa\n",
      "Processing Record 23 of Set 8 | oktyabrskoye\n",
      "Processing Record 24 of Set 8 | outlook\n",
      "Processing Record 25 of Set 8 | atambua\n",
      "Processing Record 26 of Set 8 | tamandare\n",
      "Processing Record 27 of Set 8 | grand centre\n",
      "Processing Record 28 of Set 8 | zhireken\n",
      "Processing Record 29 of Set 8 | nuuk\n",
      "City not found. Skipping...\n",
      "Processing Record 30 of Set 8 | lugovoy\n",
      "Processing Record 31 of Set 8 | kulu\n",
      "Processing Record 32 of Set 8 | hervey bay\n",
      "Processing Record 33 of Set 8 | ancud\n",
      "Processing Record 34 of Set 8 | talnakh\n",
      "Processing Record 35 of Set 8 | antigonish\n",
      "Processing Record 36 of Set 8 | santa cruz\n",
      "Processing Record 37 of Set 8 | vila velha\n",
      "City not found. Skipping...\n",
      "Processing Record 38 of Set 8 | skjervoy\n",
      "Processing Record 39 of Set 8 | stornoway\n",
      "Processing Record 40 of Set 8 | kangaatsiaq\n",
      "Processing Record 41 of Set 8 | manjacaze\n",
      "Processing Record 42 of Set 8 | luganville\n",
      "City not found. Skipping...\n",
      "Processing Record 43 of Set 8 | mirador\n",
      "Processing Record 44 of Set 8 | isangel\n",
      "Processing Record 45 of Set 8 | san carlos de bariloche\n",
      "Processing Record 46 of Set 8 | shiyan\n",
      "Processing Record 47 of Set 8 | nador\n",
      "Processing Record 48 of Set 8 | werda\n",
      "Processing Record 49 of Set 8 | alta floresta\n",
      "Processing Record 1 of Set 9 | kadyy\n",
      "Processing Record 2 of Set 9 | porto novo\n",
      "Processing Record 3 of Set 9 | sines\n",
      "Processing Record 4 of Set 9 | kurilsk\n",
      "Processing Record 5 of Set 9 | west wendover\n",
      "Processing Record 6 of Set 9 | brae\n",
      "City not found. Skipping...\n",
      "Processing Record 7 of Set 9 | grants pass\n",
      "Processing Record 8 of Set 9 | atasu\n",
      "Processing Record 9 of Set 9 | jieshi\n",
      "Processing Record 10 of Set 9 | san rafael\n",
      "Processing Record 11 of Set 9 | kieta\n",
      "Processing Record 12 of Set 9 | bethel\n",
      "City not found. Skipping...\n",
      "Processing Record 13 of Set 9 | port hawkesbury\n",
      "Processing Record 14 of Set 9 | akita\n",
      "Processing Record 15 of Set 9 | grindavik\n",
      "Processing Record 16 of Set 9 | kargat\n",
      "Processing Record 17 of Set 9 | northam\n",
      "Processing Record 18 of Set 9 | tanout\n",
      "Processing Record 19 of Set 9 | vega de alatorre\n",
      "Processing Record 20 of Set 9 | tocopilla\n",
      "City not found. Skipping...\n",
      "Processing Record 21 of Set 9 | san cristobal\n",
      "Processing Record 22 of Set 9 | lazaro cardenas\n",
      "Processing Record 23 of Set 9 | kamaishi\n",
      "Processing Record 24 of Set 9 | goderich\n",
      "City not found. Skipping...\n",
      "Processing Record 25 of Set 9 | agbor\n",
      "Processing Record 26 of Set 9 | shelburne\n",
      "Processing Record 27 of Set 9 | talaya\n",
      "Processing Record 28 of Set 9 | ust-maya\n",
      "City not found. Skipping...\n",
      "Processing Record 29 of Set 9 | valdivia\n",
      "Processing Record 30 of Set 9 | saryg-sep\n",
      "City not found. Skipping...\n",
      "Processing Record 31 of Set 9 | qaqortoq\n",
      "Processing Record 32 of Set 9 | tecoanapa\n",
      "Processing Record 33 of Set 9 | poum\n",
      "Processing Record 34 of Set 9 | yar-sale\n",
      "Processing Record 35 of Set 9 | damaturu\n",
      "Processing Record 36 of Set 9 | ranong\n",
      "Processing Record 37 of Set 9 | rio cuarto\n",
      "Processing Record 38 of Set 9 | oak ridge\n",
      "Processing Record 39 of Set 9 | piracanjuba\n",
      "Processing Record 40 of Set 9 | clarence town\n",
      "Processing Record 41 of Set 9 | byron bay\n",
      "Processing Record 42 of Set 9 | stoughton\n",
      "Processing Record 43 of Set 9 | ballwin\n",
      "Processing Record 44 of Set 9 | sola\n",
      "Processing Record 45 of Set 9 | galesong\n",
      "Processing Record 46 of Set 9 | yumen\n",
      "Processing Record 47 of Set 9 | katangli\n",
      "City not found. Skipping...\n",
      "City not found. Skipping...\n",
      "Processing Record 48 of Set 9 | fortuna\n",
      "Processing Record 49 of Set 9 | jizan\n",
      "Processing Record 1 of Set 10 | rayong\n",
      "Processing Record 2 of Set 10 | palmer\n",
      "Processing Record 3 of Set 10 | bubaque\n",
      "City not found. Skipping...\n",
      "Processing Record 4 of Set 10 | qianguo\n",
      "Processing Record 5 of Set 10 | kreuzau\n",
      "Processing Record 6 of Set 10 | hirara\n",
      "Processing Record 7 of Set 10 | chavakkad\n",
      "Processing Record 8 of Set 10 | hidalgotitlan\n",
      "Processing Record 9 of Set 10 | chinhoyi\n",
      "Processing Record 10 of Set 10 | minab\n",
      "Processing Record 11 of Set 10 | khani\n",
      "Processing Record 12 of Set 10 | baie-saint-paul\n",
      "Processing Record 13 of Set 10 | cap malheureux\n",
      "Processing Record 14 of Set 10 | hofn\n",
      "City not found. Skipping...\n",
      "Processing Record 15 of Set 10 | seoul\n",
      "Processing Record 16 of Set 10 | oktyabrskiy\n",
      "Processing Record 17 of Set 10 | mount gambier\n",
      "Processing Record 18 of Set 10 | nanga eboko\n",
      "Processing Record 19 of Set 10 | boende\n",
      "Processing Record 20 of Set 10 | atlantic city\n",
      "Processing Record 21 of Set 10 | tabou\n",
      "Processing Record 22 of Set 10 | cabo san lucas\n",
      "Processing Record 23 of Set 10 | sambava\n",
      "Processing Record 24 of Set 10 | russell\n",
      "Processing Record 25 of Set 10 | kushiro\n",
      "Processing Record 26 of Set 10 | boundiali\n",
      "Processing Record 27 of Set 10 | voh\n",
      "Processing Record 28 of Set 10 | chipiona\n",
      "Processing Record 29 of Set 10 | bellefontaine\n",
      "City not found. Skipping...\n",
      "Processing Record 30 of Set 10 | neustadt\n",
      "Processing Record 31 of Set 10 | evensk\n",
      "Processing Record 32 of Set 10 | baturaja\n",
      "Processing Record 33 of Set 10 | miles city\n",
      "Processing Record 34 of Set 10 | bilecik\n",
      "Processing Record 35 of Set 10 | lashio\n",
      "Processing Record 36 of Set 10 | coihaique\n",
      "Processing Record 37 of Set 10 | fare\n",
      "Processing Record 38 of Set 10 | altamont\n",
      "Processing Record 39 of Set 10 | pokosnoye\n",
      "Processing Record 40 of Set 10 | castellaneta\n",
      "Processing Record 41 of Set 10 | akyab\n",
      "Processing Record 42 of Set 10 | ust-omchug\n",
      "Processing Record 43 of Set 10 | baykit\n",
      "Processing Record 44 of Set 10 | sumbe\n",
      "Processing Record 45 of Set 10 | jega\n",
      "Processing Record 46 of Set 10 | sartana\n",
      "City not found. Skipping...\n",
      "Processing Record 47 of Set 10 | pahrump\n",
      "City not found. Skipping...\n",
      "Processing Record 48 of Set 10 | ionia\n",
      "Processing Record 49 of Set 10 | mayo\n",
      "Processing Record 1 of Set 11 | vao\n",
      "Processing Record 2 of Set 11 | novoagansk\n",
      "Processing Record 3 of Set 11 | chirongui\n",
      "Processing Record 4 of Set 11 | kaduqli\n",
      "City not found. Skipping...\n",
      "Processing Record 5 of Set 11 | manado\n",
      "Processing Record 6 of Set 11 | andilamena\n",
      "Processing Record 7 of Set 11 | faya\n",
      "Processing Record 8 of Set 11 | rio gallegos\n",
      "Processing Record 9 of Set 11 | fecamp\n",
      "Processing Record 10 of Set 11 | timra\n",
      "Processing Record 11 of Set 11 | catacocha\n",
      "Processing Record 12 of Set 11 | altay\n",
      "Processing Record 13 of Set 11 | mitsamiouli\n",
      "Processing Record 14 of Set 11 | kharan\n",
      "Processing Record 15 of Set 11 | aklavik\n",
      "Processing Record 16 of Set 11 | paamiut\n",
      "City not found. Skipping...\n",
      "Processing Record 17 of Set 11 | podor\n",
      "Processing Record 18 of Set 11 | puerto maldonado\n",
      "Processing Record 19 of Set 11 | saint-leu\n",
      "Processing Record 20 of Set 11 | vanimo\n",
      "Processing Record 21 of Set 11 | gusau\n",
      "Processing Record 22 of Set 11 | luena\n",
      "Processing Record 23 of Set 11 | nalut\n",
      "------------------------------\n",
      "Data Retrieval Complete\n",
      "------------------------------\n"
     ]
    }
   ],
   "source": [
    "# Create lists to store data for dataframe\n",
    "city_two = []\n",
    "cloudinesses = []\n",
    "dates = []\n",
    "humidities = []\n",
    "lats = []\n",
    "lngs = []\n",
    "max_temps = []\n",
    "wind_speeds = []\n",
    "countries = []\n",
    "\n",
    "# loops for creating dataframe columns\n",
    "for city in cities:\n",
    "    try:\n",
    "        response = requests.get(query_url + city.replace(\" \",\"&\")).json()\n",
    "        cloudinesses.append(response['clouds']['all'])\n",
    "        countries.append(response['sys']['country'])\n",
    "        dates.append(response['dt'])\n",
    "        humidities.append(response['main']['humidity'])\n",
    "        lats.append(response['coord']['lat'])\n",
    "        lngs.append(response['coord']['lon'])\n",
    "        max_temps.append(response['main']['temp_max'])\n",
    "        wind_speeds.append(response['wind']['speed'])\n",
    "        if count_one > 48:\n",
    "            count_one = 1\n",
    "            set_one += 1\n",
    "            city_two.append(city)\n",
    "        else:\n",
    "            count_one += 1\n",
    "            city_two.append(city)\n",
    "        print(f\"Processing Record {count_one} of Set {set_one} | {city}\")\n",
    "    except Exception:\n",
    "        print(\"City not found. Skipping...\")\n",
    "print(\"------------------------------\\nData Retrieval Complete\\n------------------------------\")"
   ]
  },
  {
   "cell_type": "markdown",
   "metadata": {},
   "source": [
    "### Convert Raw Data to DataFrame\n",
    "* Export the city data into a .csv.\n",
    "* Display the DataFrame"
   ]
  },
  {
   "cell_type": "code",
   "execution_count": 5,
   "metadata": {},
   "outputs": [],
   "source": [
    "# Create dataframe\n",
    "weather_dict = {\n",
    "    \"City\": city_two,\n",
    "    \"Cloudiness\": cloudinesses,\n",
    "    \"Country\": countries,\n",
    "    \"Date\": dates,\n",
    "    \"Humidity\": humidities,\n",
    "    \"Lat\": lats,\n",
    "    \"Lng\": lngs,\n",
    "    \"Max Temp\": max_temps,\n",
    "    \"Wind Speed\": wind_speeds\n",
    "}"
   ]
  },
  {
   "cell_type": "code",
   "execution_count": 20,
   "metadata": {},
   "outputs": [
    {
     "data": {
      "text/html": [
       "<div>\n",
       "<style scoped>\n",
       "    .dataframe tbody tr th:only-of-type {\n",
       "        vertical-align: middle;\n",
       "    }\n",
       "\n",
       "    .dataframe tbody tr th {\n",
       "        vertical-align: top;\n",
       "    }\n",
       "\n",
       "    .dataframe thead th {\n",
       "        text-align: right;\n",
       "    }\n",
       "</style>\n",
       "<table border=\"1\" class=\"dataframe\">\n",
       "  <thead>\n",
       "    <tr style=\"text-align: right;\">\n",
       "      <th></th>\n",
       "      <th>City</th>\n",
       "      <th>Cloudiness</th>\n",
       "      <th>Country</th>\n",
       "      <th>Date</th>\n",
       "      <th>Humidity</th>\n",
       "      <th>Lat</th>\n",
       "      <th>Lng</th>\n",
       "      <th>Max Temp</th>\n",
       "      <th>Wind Speed</th>\n",
       "    </tr>\n",
       "  </thead>\n",
       "  <tbody>\n",
       "    <tr>\n",
       "      <th>0</th>\n",
       "      <td>busselton</td>\n",
       "      <td>100</td>\n",
       "      <td>AU</td>\n",
       "      <td>1604280448</td>\n",
       "      <td>86</td>\n",
       "      <td>-33.65</td>\n",
       "      <td>115.33</td>\n",
       "      <td>62.01</td>\n",
       "      <td>5.91</td>\n",
       "    </tr>\n",
       "    <tr>\n",
       "      <th>1</th>\n",
       "      <td>shwebo</td>\n",
       "      <td>52</td>\n",
       "      <td>MM</td>\n",
       "      <td>1604280971</td>\n",
       "      <td>87</td>\n",
       "      <td>22.57</td>\n",
       "      <td>95.70</td>\n",
       "      <td>78.26</td>\n",
       "      <td>5.28</td>\n",
       "    </tr>\n",
       "    <tr>\n",
       "      <th>2</th>\n",
       "      <td>barrow</td>\n",
       "      <td>75</td>\n",
       "      <td>US</td>\n",
       "      <td>1604280657</td>\n",
       "      <td>68</td>\n",
       "      <td>71.29</td>\n",
       "      <td>-156.79</td>\n",
       "      <td>28.40</td>\n",
       "      <td>18.34</td>\n",
       "    </tr>\n",
       "    <tr>\n",
       "      <th>3</th>\n",
       "      <td>qaanaaq</td>\n",
       "      <td>0</td>\n",
       "      <td>GL</td>\n",
       "      <td>1604280449</td>\n",
       "      <td>74</td>\n",
       "      <td>77.48</td>\n",
       "      <td>-69.36</td>\n",
       "      <td>2.79</td>\n",
       "      <td>6.44</td>\n",
       "    </tr>\n",
       "    <tr>\n",
       "      <th>4</th>\n",
       "      <td>thompson</td>\n",
       "      <td>75</td>\n",
       "      <td>CA</td>\n",
       "      <td>1604280467</td>\n",
       "      <td>100</td>\n",
       "      <td>55.74</td>\n",
       "      <td>-97.86</td>\n",
       "      <td>21.20</td>\n",
       "      <td>3.36</td>\n",
       "    </tr>\n",
       "    <tr>\n",
       "      <th>5</th>\n",
       "      <td>buala</td>\n",
       "      <td>42</td>\n",
       "      <td>SB</td>\n",
       "      <td>1604280720</td>\n",
       "      <td>64</td>\n",
       "      <td>-8.14</td>\n",
       "      <td>159.59</td>\n",
       "      <td>87.46</td>\n",
       "      <td>2.98</td>\n",
       "    </tr>\n",
       "    <tr>\n",
       "      <th>6</th>\n",
       "      <td>viedma</td>\n",
       "      <td>0</td>\n",
       "      <td>AR</td>\n",
       "      <td>1604280725</td>\n",
       "      <td>52</td>\n",
       "      <td>-40.81</td>\n",
       "      <td>-63.00</td>\n",
       "      <td>64.00</td>\n",
       "      <td>16.62</td>\n",
       "    </tr>\n",
       "    <tr>\n",
       "      <th>7</th>\n",
       "      <td>chokurdakh</td>\n",
       "      <td>100</td>\n",
       "      <td>RU</td>\n",
       "      <td>1604280466</td>\n",
       "      <td>93</td>\n",
       "      <td>70.63</td>\n",
       "      <td>147.92</td>\n",
       "      <td>-0.53</td>\n",
       "      <td>11.34</td>\n",
       "    </tr>\n",
       "    <tr>\n",
       "      <th>8</th>\n",
       "      <td>camacha</td>\n",
       "      <td>20</td>\n",
       "      <td>PT</td>\n",
       "      <td>1604280714</td>\n",
       "      <td>88</td>\n",
       "      <td>33.08</td>\n",
       "      <td>-16.33</td>\n",
       "      <td>66.20</td>\n",
       "      <td>3.69</td>\n",
       "    </tr>\n",
       "    <tr>\n",
       "      <th>9</th>\n",
       "      <td>portland</td>\n",
       "      <td>1</td>\n",
       "      <td>US</td>\n",
       "      <td>1604280452</td>\n",
       "      <td>41</td>\n",
       "      <td>45.52</td>\n",
       "      <td>-122.68</td>\n",
       "      <td>61.00</td>\n",
       "      <td>8.05</td>\n",
       "    </tr>\n",
       "  </tbody>\n",
       "</table>\n",
       "</div>"
      ],
      "text/plain": [
       "         City  Cloudiness Country        Date  Humidity    Lat     Lng  \\\n",
       "0   busselton         100      AU  1604280448        86 -33.65  115.33   \n",
       "1      shwebo          52      MM  1604280971        87  22.57   95.70   \n",
       "2      barrow          75      US  1604280657        68  71.29 -156.79   \n",
       "3     qaanaaq           0      GL  1604280449        74  77.48  -69.36   \n",
       "4    thompson          75      CA  1604280467       100  55.74  -97.86   \n",
       "5       buala          42      SB  1604280720        64  -8.14  159.59   \n",
       "6      viedma           0      AR  1604280725        52 -40.81  -63.00   \n",
       "7  chokurdakh         100      RU  1604280466        93  70.63  147.92   \n",
       "8     camacha          20      PT  1604280714        88  33.08  -16.33   \n",
       "9    portland           1      US  1604280452        41  45.52 -122.68   \n",
       "\n",
       "   Max Temp  Wind Speed  \n",
       "0     62.01        5.91  \n",
       "1     78.26        5.28  \n",
       "2     28.40       18.34  \n",
       "3      2.79        6.44  \n",
       "4     21.20        3.36  \n",
       "5     87.46        2.98  \n",
       "6     64.00       16.62  \n",
       "7     -0.53       11.34  \n",
       "8     66.20        3.69  \n",
       "9     61.00        8.05  "
      ]
     },
     "execution_count": 20,
     "metadata": {},
     "output_type": "execute_result"
    }
   ],
   "source": [
    "weather_df = pd.DataFrame(weather_dict)\n",
    "\n",
    "# show the top of the dataframe\n",
    "weather_df.head(10)"
   ]
  },
  {
   "cell_type": "code",
   "execution_count": 25,
   "metadata": {},
   "outputs": [],
   "source": [
    "# Export dataframe to csv\n",
    "# weather_df.to_csv(\"C:/Users/15038/Desktop/Bootcamp HW/python-api-challenge/WeatherPy/Output/weather_df.csv\")"
   ]
  },
  {
   "cell_type": "markdown",
   "metadata": {},
   "source": [
    "## Inspect the data and remove the cities where the humidity > 100%.\n",
    "----\n",
    "Skip this step if there are no cities that have humidity > 100%. "
   ]
  },
  {
   "cell_type": "code",
   "execution_count": 29,
   "metadata": {},
   "outputs": [
    {
     "data": {
      "text/html": [
       "<div>\n",
       "<style scoped>\n",
       "    .dataframe tbody tr th:only-of-type {\n",
       "        vertical-align: middle;\n",
       "    }\n",
       "\n",
       "    .dataframe tbody tr th {\n",
       "        vertical-align: top;\n",
       "    }\n",
       "\n",
       "    .dataframe thead th {\n",
       "        text-align: right;\n",
       "    }\n",
       "</style>\n",
       "<table border=\"1\" class=\"dataframe\">\n",
       "  <thead>\n",
       "    <tr style=\"text-align: right;\">\n",
       "      <th></th>\n",
       "      <th>City</th>\n",
       "      <th>Cloudiness</th>\n",
       "      <th>Country</th>\n",
       "      <th>Date</th>\n",
       "      <th>Humidity</th>\n",
       "      <th>Lat</th>\n",
       "      <th>Lng</th>\n",
       "      <th>Max Temp</th>\n",
       "      <th>Wind Speed</th>\n",
       "    </tr>\n",
       "  </thead>\n",
       "  <tbody>\n",
       "  </tbody>\n",
       "</table>\n",
       "</div>"
      ],
      "text/plain": [
       "Empty DataFrame\n",
       "Columns: [City, Cloudiness, Country, Date, Humidity, Lat, Lng, Max Temp, Wind Speed]\n",
       "Index: []"
      ]
     },
     "execution_count": 29,
     "metadata": {},
     "output_type": "execute_result"
    }
   ],
   "source": [
    "clean_weather_df = weather_df.loc[weather_df[\"Humidity\"] > 100]\n",
    "clean_weather_df"
   ]
  },
  {
   "cell_type": "code",
   "execution_count": null,
   "metadata": {},
   "outputs": [],
   "source": [
    "#  Get the indices of cities that have humidity over 100%.\n",
    "# No cities with humidity > 100%"
   ]
  },
  {
   "cell_type": "code",
   "execution_count": null,
   "metadata": {},
   "outputs": [],
   "source": [
    "# Make a new DataFrame equal to the city data to drop all humidity outliers by index.\n",
    "# Passing \"inplace=False\" will make a copy of the city_data DataFrame, which we call \"clean_city_data\"."
   ]
  },
  {
   "cell_type": "markdown",
   "metadata": {},
   "source": [
    "## Plotting the Data\n",
    "* Use proper labeling of the plots using plot titles (including date of analysis) and axes labels.\n",
    "* Save the plotted figures as .pngs."
   ]
  },
  {
   "cell_type": "markdown",
   "metadata": {},
   "source": [
    "## Latitude vs. Temperature Plot"
   ]
  },
  {
   "cell_type": "code",
   "execution_count": 8,
   "metadata": {
    "scrolled": true
   },
   "outputs": [
    {
     "data": {
      "image/png": "[encoded data removed]",
      "text/plain": [
       "<Figure size 432x288 with 1 Axes>"
      ]
     },
     "metadata": {
      "needs_background": "light"
     },
     "output_type": "display_data"
    }
   ],
   "source": [
    "# Build scatter plot with related data\n",
    "plt.scatter(weather_df[\"Lat\"], weather_df[\"Max Temp\"], facecolors=\"red\", marker=\"o\", edgecolor=\"black\")\n",
    "\n",
    "# Format the graph labels\n",
    "plt.title(\"City Latitude vs. Max Temperature (11/01/2020)\")\n",
    "plt.ylabel(\"Max Temperature (°F)\")\n",
    "plt.xlabel(\"Latitude\")\n",
    "plt.grid(True)\n",
    "\n",
    "# Save Figure\n",
    "plt.savefig(\"Output/Latitude_vs_Temperature.png\")\n",
    "\n",
    "# Show Plot\n",
    "plt.show()"
   ]
  },
  {
   "cell_type": "markdown",
   "metadata": {},
   "source": [
    "## Latitude vs. Humidity Plot"
   ]
  },
  {
   "cell_type": "code",
   "execution_count": 9,
   "metadata": {},
   "outputs": [
    {
     "data": {
      "image/png": "[encoded data removed]",
      "text/plain": [
       "<Figure size 432x288 with 1 Axes>"
      ]
     },
     "metadata": {
      "needs_background": "light"
     },
     "output_type": "display_data"
    }
   ],
   "source": [
    "# Build scatter plot with related data\n",
    "plt.scatter(weather_df[\"Lat\"], weather_df[\"Humidity\"], facecolors=\"blue\", marker=\"o\", edgecolor=\"black\")\n",
    "\n",
    "# Format graph labels\n",
    "plt.title(\"City Latitude vs. Humidity (11/01/2020)\")\n",
    "plt.ylabel(\"Humidity (%)\")\n",
    "plt.xlabel(\"Latitude\")\n",
    "plt.grid(True)\n",
    "\n",
    "# Save Figure\n",
    "plt.savefig(\"Output/Latitude_vs_Humidity.png\")\n",
    "\n",
    "# Show Plot\n",
    "plt.show()"
   ]
  },
  {
   "cell_type": "markdown",
   "metadata": {},
   "source": [
    "## Latitude vs. Cloudiness Plot"
   ]
  },
  {
   "cell_type": "code",
   "execution_count": 10,
   "metadata": {},
   "outputs": [
    {
     "data": {
      "image/png": "[encoded data removed]",
      "text/plain": [
       "<Figure size 432x288 with 1 Axes>"
      ]
     },
     "metadata": {
      "needs_background": "light"
     },
     "output_type": "display_data"
    }
   ],
   "source": [
    "# Build scatter plot with related data\n",
    "plt.scatter(weather_df[\"Lat\"], weather_df[\"Cloudiness\"], facecolors=\"green\", marker=\"o\", edgecolor=\"black\")\n",
    "\n",
    "# Format graph labels\n",
    "plt.title(\"City Latitude vs. Cloudiness (11/01/2020)\")\n",
    "plt.ylabel(\"Cloudiness (%)\")\n",
    "plt.xlabel(\"Latitude\")\n",
    "plt.grid(True)\n",
    "\n",
    "# Save Figure\n",
    "plt.savefig(\"Output/Latitude_vs_Cloudiness.png\")\n",
    "\n",
    "# Show Plot\n",
    "plt.show()"
   ]
  },
  {
   "cell_type": "markdown",
   "metadata": {},
   "source": [
    "## Latitude vs. Wind Speed Plot"
   ]
  },
  {
   "cell_type": "code",
   "execution_count": 11,
   "metadata": {},
   "outputs": [
    {
     "data": {
      "image/png": "[encoded data removed]",
      "text/plain": [
       "<Figure size 432x288 with 1 Axes>"
      ]
     },
     "metadata": {
      "needs_background": "light"
     },
     "output_type": "display_data"
    }
   ],
   "source": [
    "# Build scatter plot with related data\n",
    "plt.scatter(weather_df[\"Lat\"], weather_df[\"Wind Speed\"], facecolors=\"yellow\", marker=\"o\", edgecolor=\"black\")\n",
    "\n",
    "# Format graph labels\n",
    "plt.title(\"City Latitude vs. Wind Speed (11/01/2020)\")\n",
    "plt.ylabel(\"Wind Speed (MPH)\")\n",
    "plt.xlabel(\"Latitude\")\n",
    "plt.grid(True)\n",
    "\n",
    "# Save Figure\n",
    "plt.savefig(\"Output/Latitude_vs_Wind_Speed.png\")\n",
    "\n",
    "# Show Plot\n",
    "plt.show()"
   ]
  },
  {
   "cell_type": "markdown",
   "metadata": {},
   "source": [
    "# Relationship between Latitidue and Wind Speed\n",
    "#### As the plot shows, there is little correlation between latitude and wind speed. As latitude increases, wind speed does not increase proportionally. "
   ]
  },
  {
   "cell_type": "markdown",
   "metadata": {},
   "source": [
    "## Linear Regression"
   ]
  },
  {
   "cell_type": "code",
   "execution_count": 13,
   "metadata": {},
   "outputs": [],
   "source": [
    "# Create dataframes for northern and southern cities\n",
    "nothern = weather_df.loc[weather_df[\"Lat\"] >= 0.0]\n",
    "nothern.reset_index(inplace=True)\n",
    "\n",
    "southern = weather_df.loc[weather_df[\"Lat\"] < 0.0]\n",
    "southern.reset_index(inplace=True)"
   ]
  },
  {
   "cell_type": "code",
   "execution_count": 14,
   "metadata": {},
   "outputs": [],
   "source": [
    "# Define regression plot\n",
    "\n",
    "def plotLinearRegression(xdata,ydata,xlbl,ylbl,lblpos,ifig):\n",
    "    (slope, intercept, rvalue, pvalue, stderr) = linregress(xdata, ydata)\n",
    "    print(f\"The r-squared is: {rvalue}\")\n",
    "    regress_values = xdata * slope + intercept\n",
    "    line_eq = \"y = \" + str(round(slope,2)) + \"x + \" + str(round(intercept,2))\n",
    "\n",
    "    plt.scatter(xdata,ydata)\n",
    "    plt.plot(xdata,regress_values,\"r-\")\n",
    "    plt.annotate(line_eq,lblpos,fontsize=15,color=\"red\")\n",
    "    plt.xlabel(xlbl)\n",
    "    plt.ylabel(ylbl)\n",
    "    plt.savefig(f\"output/fig{ifig}.png\")\n",
    "    plt.show()"
   ]
  },
  {
   "cell_type": "markdown",
   "metadata": {},
   "source": [
    "####  Northern Hemisphere - Max Temp vs. Latitude Linear Regression"
   ]
  },
  {
   "cell_type": "code",
   "execution_count": 15,
   "metadata": {},
   "outputs": [
    {
     "name": "stdout",
     "output_type": "stream",
     "text": [
      "The r-squared is: -0.8548887940298991\n"
     ]
    },
    {
     "data": {
      "image/png": "[encoded data removed]",
      "text/plain": [
       "<Figure size 432x288 with 1 Axes>"
      ]
     },
     "metadata": {
      "needs_background": "light"
     },
     "output_type": "display_data"
    }
   ],
   "source": [
    "xlbl = \"Lat\"\n",
    "ylbl = \"Max Temp\"\n",
    "lblpos = (0,25)\n",
    "plotLinearRegression(nothern[xlbl],nothern[ylbl],xlbl,ylbl,lblpos,5)"
   ]
  },
  {
   "cell_type": "markdown",
   "metadata": {},
   "source": [
    "####  Southern Hemisphere - Max Temp vs. Latitude Linear Regression"
   ]
  },
  {
   "cell_type": "code",
   "execution_count": 16,
   "metadata": {},
   "outputs": [
    {
     "name": "stdout",
     "output_type": "stream",
     "text": [
      "The r-squared is: 0.6280857293193013\n"
     ]
    },
    {
     "data": {
      "image/png": "[encoded data removed]",
      "text/plain": [
       "<Figure size 432x288 with 1 Axes>"
      ]
     },
     "metadata": {
      "needs_background": "light"
     },
     "output_type": "display_data"
    }
   ],
   "source": [
    "xlbl = \"Lat\"\n",
    "ylbl = \"Max Temp\"\n",
    "lblpos = (-55,90)\n",
    "plotLinearRegression(southern[xlbl],southern[ylbl],xlbl,ylbl,lblpos,6)"
   ]
  },
  {
   "cell_type": "markdown",
   "metadata": {},
   "source": [
    "####  Northern Hemisphere - Humidity (%) vs. Latitude Linear Regression"
   ]
  },
  {
   "cell_type": "code",
   "execution_count": 33,
   "metadata": {},
   "outputs": [
    {
     "name": "stdout",
     "output_type": "stream",
     "text": [
      "The r-squared is: 0.34635863861617966\n"
     ]
    },
    {
     "data": {
      "image/png": "[encoded data removed]",
      "text/plain": [
       "<Figure size 432x288 with 1 Axes>"
      ]
     },
     "metadata": {
      "needs_background": "light"
     },
     "output_type": "display_data"
    }
   ],
   "source": [
    "xlbl = \"Lat\"\n",
    "ylbl = \"Humidity\"\n",
    "lblpos = (45,10)\n",
    "plotLinearRegression(nothern[xlbl],nothern[ylbl],xlbl,ylbl,lblpos,7)"
   ]
  },
  {
   "cell_type": "markdown",
   "metadata": {},
   "source": [
    "####  Southern Hemisphere - Humidity (%) vs. Latitude Linear Regression"
   ]
  },
  {
   "cell_type": "code",
   "execution_count": 39,
   "metadata": {},
   "outputs": [
    {
     "name": "stdout",
     "output_type": "stream",
     "text": [
      "The r-squared is: 0.09785510384397858\n"
     ]
    },
    {
     "data": {
      "image/png": "[encoded data removed]",
      "text/plain": [
       "<Figure size 432x288 with 1 Axes>"
      ]
     },
     "metadata": {
      "needs_background": "light"
     },
     "output_type": "display_data"
    }
   ],
   "source": [
    "xlbl = \"Lat\"\n",
    "ylbl = \"Humidity\"\n",
    "lblpos = (-50,35)\n",
    "plotLinearRegression(southern[xlbl],southern[ylbl],xlbl,ylbl,lblpos,8)"
   ]
  },
  {
   "cell_type": "markdown",
   "metadata": {},
   "source": [
    "####  Northern Hemisphere - Cloudiness (%) vs. Latitude Linear Regression"
   ]
  },
  {
   "cell_type": "code",
   "execution_count": 31,
   "metadata": {},
   "outputs": [
    {
     "name": "stdout",
     "output_type": "stream",
     "text": [
      "The r-squared is: 0.24925729149692233\n"
     ]
    },
    {
     "data": {
      "image/png": "[encoded data removed]",
      "text/plain": [
       "<Figure size 432x288 with 1 Axes>"
      ]
     },
     "metadata": {
      "needs_background": "light"
     },
     "output_type": "display_data"
    }
   ],
   "source": [
    "xlbl = \"Lat\"\n",
    "ylbl = \"Cloudiness\"\n",
    "lblpos = (45,10)\n",
    "plotLinearRegression(nothern[xlbl],nothern[ylbl],xlbl,ylbl,lblpos,7)"
   ]
  },
  {
   "cell_type": "markdown",
   "metadata": {},
   "source": [
    "####  Southern Hemisphere - Cloudiness (%) vs. Latitude Linear Regression"
   ]
  },
  {
   "cell_type": "code",
   "execution_count": 34,
   "metadata": {},
   "outputs": [
    {
     "name": "stdout",
     "output_type": "stream",
     "text": [
      "The r-squared is: 0.3140471789598146\n"
     ]
    },
    {
     "data": {
      "image/png": "[encoded data removed]",
      "text/plain": [
       "<Figure size 432x288 with 1 Axes>"
      ]
     },
     "metadata": {
      "needs_background": "light"
     },
     "output_type": "display_data"
    }
   ],
   "source": [
    "xlbl = \"Lat\"\n",
    "ylbl = \"Cloudiness\"\n",
    "lblpos = (-55,15)\n",
    "plotLinearRegression(southern[xlbl],southern[ylbl],xlbl,ylbl,lblpos,8)"
   ]
  },
  {
   "cell_type": "markdown",
   "metadata": {},
   "source": [
    "####  Northern Hemisphere - Wind Speed (mph) vs. Latitude Linear Regression"
   ]
  },
  {
   "cell_type": "code",
   "execution_count": 38,
   "metadata": {},
   "outputs": [
    {
     "name": "stdout",
     "output_type": "stream",
     "text": [
      "The r-squared is: 0.29069576492798876\n"
     ]
    },
    {
     "data": {
      "image/png": "[encoded data removed]",
      "text/plain": [
       "<Figure size 432x288 with 1 Axes>"
      ]
     },
     "metadata": {
      "needs_background": "light"
     },
     "output_type": "display_data"
    }
   ],
   "source": [
    "xlbl = \"Lat\"\n",
    "ylbl = \"Wind Speed\"\n",
    "lblpos = (10,40)\n",
    "plotLinearRegression(nothern[xlbl],nothern[ylbl],xlbl,ylbl,lblpos,7)"
   ]
  },
  {
   "cell_type": "markdown",
   "metadata": {},
   "source": [
    "####  Southern Hemisphere - Wind Speed (mph) vs. Latitude Linear Regression"
   ]
  },
  {
   "cell_type": "code",
   "execution_count": 36,
   "metadata": {},
   "outputs": [
    {
     "name": "stdout",
     "output_type": "stream",
     "text": [
      "The r-squared is: -0.2915262835298259\n"
     ]
    },
    {
     "data": {
      "image/png": "[encoded data removed]",
      "text/plain": [
       "<Figure size 432x288 with 1 Axes>"
      ]
     },
     "metadata": {
      "needs_background": "light"
     },
     "output_type": "display_data"
    }
   ],
   "source": [
    "xlbl = \"Lat\"\n",
    "ylbl = \"Wind Speed\"\n",
    "lblpos = (-55,15)\n",
    "plotLinearRegression(southern[xlbl],southern[ylbl],xlbl,ylbl,lblpos,8)"
   ]
  }
 ],
 "metadata": {
  "anaconda-cloud": {},
  "kernel_info": {
   "name": "python3"
  },
  "kernelspec": {
   "display_name": "Python 3",
   "language": "python",
   "name": "python3"
  },
  "language_info": {
   "codemirror_mode": {
    "name": "ipython",
    "version": 3
   },
   "file_extension": ".py",
   "mimetype": "text/x-python",
   "name": "python",
   "nbconvert_exporter": "python",
   "pygments_lexer": "ipython3",
   "version": "3.6.10"
  },
  "latex_envs": {
   "LaTeX_envs_menu_present": true,
   "autoclose": false,
   "autocomplete": true,
   "bibliofile": "biblio.bib",
   "cite_by": "apalike",
   "current_citInitial": 1,
   "eqLabelWithNumbers": true,
   "eqNumInitial": 1,
   "hotkeys": {
    "equation": "Ctrl-E",
    "itemize": "Ctrl-I"
   },
   "labels_anchors": false,
   "latex_user_defs": false,
   "report_style_numbering": false,
   "user_envs_cfg": false
  },
  "nteract": {
   "version": "0.12.3"
  }
 },
 "nbformat": 4,
 "nbformat_minor": 2
}
